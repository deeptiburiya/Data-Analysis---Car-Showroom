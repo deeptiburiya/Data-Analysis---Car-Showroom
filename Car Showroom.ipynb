{
 "cells": [
  {
   "cell_type": "code",
   "execution_count": 3392,
   "id": "f13b1d7f",
   "metadata": {},
   "outputs": [],
   "source": [
    "import warnings\n",
    "warnings.filterwarnings('ignore')\n",
    "\n",
    "import ipywidgets as widgets\n",
    "from IPython.display import display, clear_output\n",
    "import ipywidgets as widgets\n",
    "import IPython.display\n",
    "from IPython.display import display, clear_output\n",
    "\n",
    "import pandas as pd\n",
    "import numpy as np\n",
    "import math\n",
    "\n",
    "from sklearn import preprocessing\n",
    "from sklearn import linear_model\n",
    "from sklearn.datasets import load_boston\n",
    "from sklearn.model_selection import train_test_split\n",
    "from sklearn.ensemble import RandomForestRegressor\n",
    "from sklearn.inspection import permutation_importance\n",
    "from matplotlib import pyplot as plt"
   ]
  },
  {
   "cell_type": "code",
   "execution_count": 3393,
   "id": "256e639d",
   "metadata": {},
   "outputs": [],
   "source": [
    "data=pd.read_csv(\"cars_engage_2022.csv\")"
   ]
  },
  {
   "cell_type": "code",
   "execution_count": 3394,
   "id": "07df11f1",
   "metadata": {},
   "outputs": [],
   "source": [
    "data=data[['Make','Model','Variant','Ex-Showroom_Price','Cylinders','Fuel_Type','Fuel_Tank_Capacity','Height','Length','Width','ARAI_Certified_Mileage','ARAI_Certified_Mileage_for_CNG','Power','Basic_Warranty','Gear_Indicator']]"
   ]
  },
  {
   "cell_type": "code",
   "execution_count": 3395,
   "id": "642c5049",
   "metadata": {},
   "outputs": [],
   "source": [
    "data['Ex-Showroom_Price'] = data['Ex-Showroom_Price'].str.replace(',', '')\n",
    "data['Ex-Showroom_Price'] = data['Ex-Showroom_Price'].str.replace('Rs.', '')\n",
    "data['Ex-Showroom_Price'] = data['Ex-Showroom_Price'].astype(int)\n",
    "data['Fuel_Tank_Capacity'] = data['Fuel_Tank_Capacity'].str.replace('litres', '')\n",
    "data['Fuel_Tank_Capacity'] = data['Fuel_Tank_Capacity'].astype(float)\n",
    "data['Height'] = data['Height'].str.replace('mm', '')\n",
    "data['Height'] = data['Height'].astype(float)\n",
    "data['Length'] = data['Length'].str.replace('mm', '')\n",
    "data['Length'] = data['Length'].astype(float)\n",
    "data['Width'] = data['Width'].str.replace('mm', '')\n",
    "data['Width'] = data['Width'].astype(float)"
   ]
  },
  {
   "cell_type": "code",
   "execution_count": 3396,
   "id": "c0802716",
   "metadata": {},
   "outputs": [
    {
     "data": {
      "text/html": [
       "<div>\n",
       "<style scoped>\n",
       "    .dataframe tbody tr th:only-of-type {\n",
       "        vertical-align: middle;\n",
       "    }\n",
       "\n",
       "    .dataframe tbody tr th {\n",
       "        vertical-align: top;\n",
       "    }\n",
       "\n",
       "    .dataframe thead th {\n",
       "        text-align: right;\n",
       "    }\n",
       "</style>\n",
       "<table border=\"1\" class=\"dataframe\">\n",
       "  <thead>\n",
       "    <tr style=\"text-align: right;\">\n",
       "      <th></th>\n",
       "      <th>Make</th>\n",
       "      <th>Model</th>\n",
       "      <th>Variant</th>\n",
       "      <th>Ex-Showroom_Price</th>\n",
       "      <th>Cylinders</th>\n",
       "      <th>Fuel_Type</th>\n",
       "      <th>Fuel_Tank_Capacity</th>\n",
       "      <th>Height</th>\n",
       "      <th>Length</th>\n",
       "      <th>Width</th>\n",
       "      <th>ARAI_Certified_Mileage</th>\n",
       "      <th>ARAI_Certified_Mileage_for_CNG</th>\n",
       "      <th>Power</th>\n",
       "      <th>Basic_Warranty</th>\n",
       "      <th>Gear_Indicator</th>\n",
       "    </tr>\n",
       "  </thead>\n",
       "  <tbody>\n",
       "    <tr>\n",
       "      <th>0</th>\n",
       "      <td>Tata</td>\n",
       "      <td>Nano Genx</td>\n",
       "      <td>Xt</td>\n",
       "      <td>292667</td>\n",
       "      <td>2.0</td>\n",
       "      <td>Petrol</td>\n",
       "      <td>24.0</td>\n",
       "      <td>1652.0</td>\n",
       "      <td>3164.0</td>\n",
       "      <td>1750.0</td>\n",
       "      <td>23.6 km/litre</td>\n",
       "      <td>NaN</td>\n",
       "      <td>38PS@5500rpm</td>\n",
       "      <td>2 years /75000 Kms (years/distance whichever c...</td>\n",
       "      <td>NaN</td>\n",
       "    </tr>\n",
       "    <tr>\n",
       "      <th>1</th>\n",
       "      <td>Tata</td>\n",
       "      <td>Nano Genx</td>\n",
       "      <td>Xe</td>\n",
       "      <td>236447</td>\n",
       "      <td>2.0</td>\n",
       "      <td>Petrol</td>\n",
       "      <td>24.0</td>\n",
       "      <td>1652.0</td>\n",
       "      <td>3164.0</td>\n",
       "      <td>1750.0</td>\n",
       "      <td>23.6 km/litre</td>\n",
       "      <td>NaN</td>\n",
       "      <td>38PS@5500rpm</td>\n",
       "      <td>2 years /75000 Kms (years/distance whichever c...</td>\n",
       "      <td>NaN</td>\n",
       "    </tr>\n",
       "    <tr>\n",
       "      <th>2</th>\n",
       "      <td>Tata</td>\n",
       "      <td>Nano Genx</td>\n",
       "      <td>Emax Xm</td>\n",
       "      <td>296661</td>\n",
       "      <td>2.0</td>\n",
       "      <td>CNG</td>\n",
       "      <td>15.0</td>\n",
       "      <td>1652.0</td>\n",
       "      <td>3164.0</td>\n",
       "      <td>1750.0</td>\n",
       "      <td>NaN</td>\n",
       "      <td>36 km/kg</td>\n",
       "      <td>38PS@5500rpm</td>\n",
       "      <td>2 years /75000 Kms (years/distance whichever c...</td>\n",
       "      <td>NaN</td>\n",
       "    </tr>\n",
       "    <tr>\n",
       "      <th>3</th>\n",
       "      <td>Tata</td>\n",
       "      <td>Nano Genx</td>\n",
       "      <td>Xta</td>\n",
       "      <td>334768</td>\n",
       "      <td>2.0</td>\n",
       "      <td>Petrol</td>\n",
       "      <td>24.0</td>\n",
       "      <td>1652.0</td>\n",
       "      <td>3164.0</td>\n",
       "      <td>1750.0</td>\n",
       "      <td>21.9 km/litre</td>\n",
       "      <td>NaN</td>\n",
       "      <td>38PS@5500rpm</td>\n",
       "      <td>2 years /75000 Kms (years/distance whichever c...</td>\n",
       "      <td>Yes</td>\n",
       "    </tr>\n",
       "    <tr>\n",
       "      <th>4</th>\n",
       "      <td>Tata</td>\n",
       "      <td>Nano Genx</td>\n",
       "      <td>Xm</td>\n",
       "      <td>272223</td>\n",
       "      <td>2.0</td>\n",
       "      <td>Petrol</td>\n",
       "      <td>24.0</td>\n",
       "      <td>1652.0</td>\n",
       "      <td>3164.0</td>\n",
       "      <td>1750.0</td>\n",
       "      <td>23.6 km/litre</td>\n",
       "      <td>NaN</td>\n",
       "      <td>38PS@5500rpm</td>\n",
       "      <td>2 years /75000 Kms (years/distance whichever c...</td>\n",
       "      <td>NaN</td>\n",
       "    </tr>\n",
       "    <tr>\n",
       "      <th>...</th>\n",
       "      <td>...</td>\n",
       "      <td>...</td>\n",
       "      <td>...</td>\n",
       "      <td>...</td>\n",
       "      <td>...</td>\n",
       "      <td>...</td>\n",
       "      <td>...</td>\n",
       "      <td>...</td>\n",
       "      <td>...</td>\n",
       "      <td>...</td>\n",
       "      <td>...</td>\n",
       "      <td>...</td>\n",
       "      <td>...</td>\n",
       "      <td>...</td>\n",
       "      <td>...</td>\n",
       "    </tr>\n",
       "    <tr>\n",
       "      <th>1271</th>\n",
       "      <td>Honda</td>\n",
       "      <td>City</td>\n",
       "      <td>Vx Mt Diesel</td>\n",
       "      <td>1302000</td>\n",
       "      <td>4.0</td>\n",
       "      <td>Diesel</td>\n",
       "      <td>40.0</td>\n",
       "      <td>1495.0</td>\n",
       "      <td>4440.0</td>\n",
       "      <td>1695.0</td>\n",
       "      <td>25.1 km/litre</td>\n",
       "      <td>NaN</td>\n",
       "      <td>100PS@3600rpm</td>\n",
       "      <td>2 Years / 40,000 Kms (Whichever comes earlier)</td>\n",
       "      <td>NaN</td>\n",
       "    </tr>\n",
       "    <tr>\n",
       "      <th>1272</th>\n",
       "      <td>Honda</td>\n",
       "      <td>City</td>\n",
       "      <td>Zx Mt Diesel</td>\n",
       "      <td>1421000</td>\n",
       "      <td>4.0</td>\n",
       "      <td>Diesel</td>\n",
       "      <td>40.0</td>\n",
       "      <td>1495.0</td>\n",
       "      <td>4440.0</td>\n",
       "      <td>1695.0</td>\n",
       "      <td>25.1 km/litre</td>\n",
       "      <td>NaN</td>\n",
       "      <td>100PS@3600rpm</td>\n",
       "      <td>2 Years / 40,000 Kms (Whichever comes earlier)</td>\n",
       "      <td>NaN</td>\n",
       "    </tr>\n",
       "    <tr>\n",
       "      <th>1273</th>\n",
       "      <td>Honda</td>\n",
       "      <td>City</td>\n",
       "      <td>Zx Cvt Petrol</td>\n",
       "      <td>1431000</td>\n",
       "      <td>4.0</td>\n",
       "      <td>Petrol</td>\n",
       "      <td>40.0</td>\n",
       "      <td>1495.0</td>\n",
       "      <td>4440.0</td>\n",
       "      <td>1695.0</td>\n",
       "      <td>22.6 km/litre</td>\n",
       "      <td>NaN</td>\n",
       "      <td>119PS@6600rpm</td>\n",
       "      <td>2 Years / 40,000 Kms (Whichever comes earlier)</td>\n",
       "      <td>NaN</td>\n",
       "    </tr>\n",
       "    <tr>\n",
       "      <th>1274</th>\n",
       "      <td>Honda</td>\n",
       "      <td>City</td>\n",
       "      <td>V Cvt Petrol</td>\n",
       "      <td>1201000</td>\n",
       "      <td>4.0</td>\n",
       "      <td>Petrol</td>\n",
       "      <td>40.0</td>\n",
       "      <td>1495.0</td>\n",
       "      <td>4440.0</td>\n",
       "      <td>1695.0</td>\n",
       "      <td>17.8 km/litre</td>\n",
       "      <td>NaN</td>\n",
       "      <td>119PS@6600rpm</td>\n",
       "      <td>2 Years / 40,000 Kms (Whichever comes earlier)</td>\n",
       "      <td>NaN</td>\n",
       "    </tr>\n",
       "    <tr>\n",
       "      <th>1275</th>\n",
       "      <td>Mitsubishi</td>\n",
       "      <td>Montero</td>\n",
       "      <td>3.2 At</td>\n",
       "      <td>6862560</td>\n",
       "      <td>4.0</td>\n",
       "      <td>Diesel</td>\n",
       "      <td>88.0</td>\n",
       "      <td>1900.0</td>\n",
       "      <td>4900.0</td>\n",
       "      <td>1875.0</td>\n",
       "      <td>11.56 km/litre</td>\n",
       "      <td>NaN</td>\n",
       "      <td>202ps@3800rpm</td>\n",
       "      <td>NaN</td>\n",
       "      <td>Yes</td>\n",
       "    </tr>\n",
       "  </tbody>\n",
       "</table>\n",
       "<p>1143 rows × 15 columns</p>\n",
       "</div>"
      ],
      "text/plain": [
       "            Make      Model        Variant  Ex-Showroom_Price  Cylinders  \\\n",
       "0           Tata  Nano Genx             Xt             292667        2.0   \n",
       "1           Tata  Nano Genx             Xe             236447        2.0   \n",
       "2           Tata  Nano Genx        Emax Xm             296661        2.0   \n",
       "3           Tata  Nano Genx            Xta             334768        2.0   \n",
       "4           Tata  Nano Genx             Xm             272223        2.0   \n",
       "...          ...        ...            ...                ...        ...   \n",
       "1271       Honda       City   Vx Mt Diesel            1302000        4.0   \n",
       "1272       Honda       City   Zx Mt Diesel            1421000        4.0   \n",
       "1273       Honda       City  Zx Cvt Petrol            1431000        4.0   \n",
       "1274       Honda       City   V Cvt Petrol            1201000        4.0   \n",
       "1275  Mitsubishi    Montero         3.2 At            6862560        4.0   \n",
       "\n",
       "     Fuel_Type  Fuel_Tank_Capacity  Height  Length   Width  \\\n",
       "0       Petrol                24.0  1652.0  3164.0  1750.0   \n",
       "1       Petrol                24.0  1652.0  3164.0  1750.0   \n",
       "2          CNG                15.0  1652.0  3164.0  1750.0   \n",
       "3       Petrol                24.0  1652.0  3164.0  1750.0   \n",
       "4       Petrol                24.0  1652.0  3164.0  1750.0   \n",
       "...        ...                 ...     ...     ...     ...   \n",
       "1271    Diesel                40.0  1495.0  4440.0  1695.0   \n",
       "1272    Diesel                40.0  1495.0  4440.0  1695.0   \n",
       "1273    Petrol                40.0  1495.0  4440.0  1695.0   \n",
       "1274    Petrol                40.0  1495.0  4440.0  1695.0   \n",
       "1275    Diesel                88.0  1900.0  4900.0  1875.0   \n",
       "\n",
       "     ARAI_Certified_Mileage ARAI_Certified_Mileage_for_CNG          Power  \\\n",
       "0             23.6 km/litre                            NaN   38PS@5500rpm   \n",
       "1             23.6 km/litre                            NaN   38PS@5500rpm   \n",
       "2                       NaN                       36 km/kg   38PS@5500rpm   \n",
       "3             21.9 km/litre                            NaN   38PS@5500rpm   \n",
       "4             23.6 km/litre                            NaN   38PS@5500rpm   \n",
       "...                     ...                            ...            ...   \n",
       "1271          25.1 km/litre                            NaN  100PS@3600rpm   \n",
       "1272          25.1 km/litre                            NaN  100PS@3600rpm   \n",
       "1273          22.6 km/litre                            NaN  119PS@6600rpm   \n",
       "1274          17.8 km/litre                            NaN  119PS@6600rpm   \n",
       "1275         11.56 km/litre                            NaN  202ps@3800rpm   \n",
       "\n",
       "                                         Basic_Warranty Gear_Indicator  \n",
       "0     2 years /75000 Kms (years/distance whichever c...            NaN  \n",
       "1     2 years /75000 Kms (years/distance whichever c...            NaN  \n",
       "2     2 years /75000 Kms (years/distance whichever c...            NaN  \n",
       "3     2 years /75000 Kms (years/distance whichever c...            Yes  \n",
       "4     2 years /75000 Kms (years/distance whichever c...            NaN  \n",
       "...                                                 ...            ...  \n",
       "1271     2 Years / 40,000 Kms (Whichever comes earlier)            NaN  \n",
       "1272     2 Years / 40,000 Kms (Whichever comes earlier)            NaN  \n",
       "1273     2 Years / 40,000 Kms (Whichever comes earlier)            NaN  \n",
       "1274     2 Years / 40,000 Kms (Whichever comes earlier)            NaN  \n",
       "1275                                                NaN            Yes  \n",
       "\n",
       "[1143 rows x 15 columns]"
      ]
     },
     "execution_count": 3396,
     "metadata": {},
     "output_type": "execute_result"
    }
   ],
   "source": [
    "data.dropna(subset=['Cylinders'],inplace=True)\n",
    "data.dropna(subset=['Ex-Showroom_Price'],inplace=True)\n",
    "data.dropna(subset=['Fuel_Tank_Capacity'],inplace=True)\n",
    "data.dropna(subset=['Height'],inplace=True)\n",
    "data.dropna(subset=['Length'],inplace=True)\n",
    "data.dropna(subset=['Width'],inplace=True)\n",
    "data"
   ]
  },
  {
   "cell_type": "code",
   "execution_count": 3397,
   "id": "4688c05e",
   "metadata": {},
   "outputs": [],
   "source": [
    "data2 = data.copy()"
   ]
  },
  {
   "cell_type": "code",
   "execution_count": 3398,
   "id": "134c8109",
   "metadata": {},
   "outputs": [],
   "source": [
    "data3 = data.copy()"
   ]
  },
  {
   "cell_type": "markdown",
   "id": "b4e2cde5",
   "metadata": {},
   "source": [
    "<h2>Selecting cars on the basis of priority of multiple features</h2>\n",
    "\n"
   ]
  },
  {
   "cell_type": "code",
   "execution_count": 3399,
   "id": "46f12e01",
   "metadata": {},
   "outputs": [
    {
     "name": "stdout",
     "output_type": "stream",
     "text": [
      "24396.0 243956823 3440184.81 2896850328.404025 21244791322.529602 3658852365.404025\n"
     ]
    }
   ],
   "source": [
    "sum1=0\n",
    "sum2=0\n",
    "sum3=0\n",
    "sum4=0\n",
    "sum5=0\n",
    "sum6=0\n",
    "for ind in data.index:\n",
    "    sum1=sum1+((data['Cylinders'][ind])*(data['Cylinders'][ind]))\n",
    "    sum2=sum2+((data['Ex-Showroom_Price'][ind])*(data['Ex-Showroom_Price'][ind]))\n",
    "    sum3=sum3+((data['Fuel_Tank_Capacity'][ind])*(data['Fuel_Tank_Capacity'][ind]))\n",
    "    sum4=sum4+((data['Height'][ind])*(data['Height'][ind]))\n",
    "    sum5=sum5+((data['Length'][ind])*(data['Length'][ind]))\n",
    "    sum6=sum6+((data['Width'][ind])*(data['Width'][ind]))\n",
    "print(sum1,sum2,sum3,sum4,sum5,sum6)"
   ]
  },
  {
   "cell_type": "code",
   "execution_count": 3400,
   "id": "cd12f965",
   "metadata": {},
   "outputs": [],
   "source": [
    "def min_max(*arguments):\n",
    "    \n",
    "    data['Cylinders_normalized']=pd.Series() \n",
    "    data['Ex-Showroom_Price_normalized']=pd.Series() \n",
    "    data['Fuel_Tank_Capacity_normalized']=pd.Series() \n",
    "    data['Height_normalized']=pd.Series() \n",
    "    data['Width_normalized']=pd.Series() \n",
    "    data['Length_normalized']=pd.Series() \n",
    "    if cyl==\"minimum\":\n",
    "        print(\"yes\")\n",
    "    for ind in data.index:\n",
    "        if cyl==\"maximum\":\n",
    "            data['Cylinders_normalized'][ind]=data['Cylinders'][ind]/sum1\n",
    "        else:\n",
    "            data['Cylinders_normalized'][ind]=1-data['Cylinders'][ind]/sum1\n",
    "            \n",
    "        if price==\"maximum\":\n",
    "            data['Ex-Showroom_Price_normalized'][ind]=data['Ex-Showroom_Price'][ind]/sum2\n",
    "        else:\n",
    "            data['Ex-Showroom_Price_normalized'][ind]=1-data['Ex-Showroom_Price'][ind]/sum2\n",
    "            \n",
    "        if fuel==\"maximum\":\n",
    "            data['Fuel_Tank_Capacity_normalized'][ind]=data['Fuel_Tank_Capacity'][ind]/sum3\n",
    "        else:\n",
    "            data['Fuel_Tank_Capacity_normalized'][ind]=1-data['Fuel_Tank_Capacity'][ind]/sum3\n",
    "       \n",
    "        if height==\"maximum\":\n",
    "            data['Height_normalized'][ind]=data['Height'][ind]/sum4\n",
    "        else:\n",
    "            data['Height_normalized'][ind]=1-data['Height'][ind]/sum4\n",
    "        \n",
    "        if width==\"maximum\":\n",
    "            data['Width_normalized'][ind]=data['Width'][ind]/sum5\n",
    "        else:\n",
    "            data['Width_normalized'][ind]=1-data['Width'][ind]/sum5\n",
    "        \n",
    "        if length==\"maximum\":\n",
    "            data['Length_normalized'][ind]=data['Length'][ind]/sum6\n",
    "        else:\n",
    "            data['Length_normalized'][ind]=1-data['Length'][ind]/sum6\n",
    "\n",
    "            \n",
    "        data['sum']=0.2*data['Cylinders_normalized']+0.3*data['Ex-Showroom_Price_normalized']+0.2*data['Fuel_Tank_Capacity_normalized']+0.1*data['Height_normalized']+0.1*data['Length_normalized']+0.1*data['Width_normalized']\n",
    "        \n",
    "        data.sort_values(by=\"sum\",ascending=False)"
   ]
  },
  {
   "cell_type": "markdown",
   "id": "01427588",
   "metadata": {},
   "source": [
    "<h2> Predict the price of car with all desired features </h2>"
   ]
  },
  {
   "cell_type": "code",
   "execution_count": 3401,
   "id": "270c9b5d",
   "metadata": {},
   "outputs": [],
   "source": [
    "le=preprocessing.LabelEncoder()\n",
    "data2['Make']=le.fit_transform(data2['Make']).astype(int)\n",
    "data2['Model']=le.fit_transform(data2['Model']).astype(int)\n",
    "data2['Variant']=le.fit_transform(data2['Variant']).astype(int)\n",
    "data2['Fuel_Type']=le.fit_transform(data2['Fuel_Type']).astype(int)\n",
    "data2['ARAI_Certified_Mileage']=le.fit_transform(data2['ARAI_Certified_Mileage']).astype(int)\n",
    "data2['ARAI_Certified_Mileage_for_CNG']=le.fit_transform(data2['ARAI_Certified_Mileage_for_CNG']).astype(int)\n",
    "data2['Power']=le.fit_transform(data2['Power']).astype(int)\n",
    "data2['Basic_Warranty']=le.fit_transform(data2['Basic_Warranty']).astype(int)\n",
    "data2['Gear_Indicator']=le.fit_transform(data2['Gear_Indicator']).astype(int)\n"
   ]
  },
  {
   "cell_type": "code",
   "execution_count": 3402,
   "id": "84b677cc",
   "metadata": {},
   "outputs": [],
   "source": [
    "y = data2['Ex-Showroom_Price']\n",
    "data2.drop(['Ex-Showroom_Price'],axis=1,inplace=True)\n",
    "X = pd.DataFrame(data2, columns=data2.columns)\n",
    "\n",
    "X_train, X_test, y_train, y_test = train_test_split(X, y, test_size=0.25, random_state=12)"
   ]
  },
  {
   "cell_type": "code",
   "execution_count": 3403,
   "id": "d6dcdb61",
   "metadata": {},
   "outputs": [
    {
     "data": {
      "text/html": [
       "<div>\n",
       "<style scoped>\n",
       "    .dataframe tbody tr th:only-of-type {\n",
       "        vertical-align: middle;\n",
       "    }\n",
       "\n",
       "    .dataframe tbody tr th {\n",
       "        vertical-align: top;\n",
       "    }\n",
       "\n",
       "    .dataframe thead th {\n",
       "        text-align: right;\n",
       "    }\n",
       "</style>\n",
       "<table border=\"1\" class=\"dataframe\">\n",
       "  <thead>\n",
       "    <tr style=\"text-align: right;\">\n",
       "      <th></th>\n",
       "      <th>Make</th>\n",
       "      <th>Model</th>\n",
       "      <th>Variant</th>\n",
       "      <th>Cylinders</th>\n",
       "      <th>Fuel_Type</th>\n",
       "      <th>Fuel_Tank_Capacity</th>\n",
       "      <th>Height</th>\n",
       "      <th>Length</th>\n",
       "      <th>Width</th>\n",
       "      <th>ARAI_Certified_Mileage</th>\n",
       "      <th>ARAI_Certified_Mileage_for_CNG</th>\n",
       "      <th>Power</th>\n",
       "      <th>Basic_Warranty</th>\n",
       "      <th>Gear_Indicator</th>\n",
       "    </tr>\n",
       "  </thead>\n",
       "  <tbody>\n",
       "    <tr>\n",
       "      <th>1167</th>\n",
       "      <td>13</td>\n",
       "      <td>70</td>\n",
       "      <td>191</td>\n",
       "      <td>6.0</td>\n",
       "      <td>4</td>\n",
       "      <td>63.0</td>\n",
       "      <td>1308.0</td>\n",
       "      <td>4482.0</td>\n",
       "      <td>1923.0</td>\n",
       "      <td>271</td>\n",
       "      <td>12</td>\n",
       "      <td>162</td>\n",
       "      <td>15</td>\n",
       "      <td>0</td>\n",
       "    </tr>\n",
       "    <tr>\n",
       "      <th>708</th>\n",
       "      <td>32</td>\n",
       "      <td>93</td>\n",
       "      <td>779</td>\n",
       "      <td>4.0</td>\n",
       "      <td>2</td>\n",
       "      <td>55.0</td>\n",
       "      <td>1795.0</td>\n",
       "      <td>4735.0</td>\n",
       "      <td>1830.0</td>\n",
       "      <td>71</td>\n",
       "      <td>12</td>\n",
       "      <td>59</td>\n",
       "      <td>15</td>\n",
       "      <td>1</td>\n",
       "    </tr>\n",
       "    <tr>\n",
       "      <th>858</th>\n",
       "      <td>23</td>\n",
       "      <td>78</td>\n",
       "      <td>723</td>\n",
       "      <td>8.0</td>\n",
       "      <td>4</td>\n",
       "      <td>75.0</td>\n",
       "      <td>1353.0</td>\n",
       "      <td>4881.0</td>\n",
       "      <td>2056.0</td>\n",
       "      <td>269</td>\n",
       "      <td>12</td>\n",
       "      <td>196</td>\n",
       "      <td>25</td>\n",
       "      <td>0</td>\n",
       "    </tr>\n",
       "    <tr>\n",
       "      <th>81</th>\n",
       "      <td>28</td>\n",
       "      <td>168</td>\n",
       "      <td>502</td>\n",
       "      <td>4.0</td>\n",
       "      <td>4</td>\n",
       "      <td>46.0</td>\n",
       "      <td>1730.0</td>\n",
       "      <td>3970.0</td>\n",
       "      <td>1570.0</td>\n",
       "      <td>84</td>\n",
       "      <td>12</td>\n",
       "      <td>285</td>\n",
       "      <td>25</td>\n",
       "      <td>1</td>\n",
       "    </tr>\n",
       "    <tr>\n",
       "      <th>537</th>\n",
       "      <td>20</td>\n",
       "      <td>32</td>\n",
       "      <td>623</td>\n",
       "      <td>4.0</td>\n",
       "      <td>2</td>\n",
       "      <td>60.0</td>\n",
       "      <td>1977.0</td>\n",
       "      <td>4440.0</td>\n",
       "      <td>1660.0</td>\n",
       "      <td>83</td>\n",
       "      <td>12</td>\n",
       "      <td>250</td>\n",
       "      <td>7</td>\n",
       "      <td>1</td>\n",
       "    </tr>\n",
       "    <tr>\n",
       "      <th>...</th>\n",
       "      <td>...</td>\n",
       "      <td>...</td>\n",
       "      <td>...</td>\n",
       "      <td>...</td>\n",
       "      <td>...</td>\n",
       "      <td>...</td>\n",
       "      <td>...</td>\n",
       "      <td>...</td>\n",
       "      <td>...</td>\n",
       "      <td>...</td>\n",
       "      <td>...</td>\n",
       "      <td>...</td>\n",
       "      <td>...</td>\n",
       "      <td>...</td>\n",
       "    </tr>\n",
       "    <tr>\n",
       "      <th>462</th>\n",
       "      <td>31</td>\n",
       "      <td>234</td>\n",
       "      <td>877</td>\n",
       "      <td>4.0</td>\n",
       "      <td>2</td>\n",
       "      <td>44.0</td>\n",
       "      <td>1570.0</td>\n",
       "      <td>3995.0</td>\n",
       "      <td>1706.0</td>\n",
       "      <td>203</td>\n",
       "      <td>12</td>\n",
       "      <td>284</td>\n",
       "      <td>11</td>\n",
       "      <td>0</td>\n",
       "    </tr>\n",
       "    <tr>\n",
       "      <th>521</th>\n",
       "      <td>31</td>\n",
       "      <td>141</td>\n",
       "      <td>914</td>\n",
       "      <td>4.0</td>\n",
       "      <td>2</td>\n",
       "      <td>44.0</td>\n",
       "      <td>1607.0</td>\n",
       "      <td>3994.0</td>\n",
       "      <td>1811.0</td>\n",
       "      <td>217</td>\n",
       "      <td>12</td>\n",
       "      <td>17</td>\n",
       "      <td>25</td>\n",
       "      <td>0</td>\n",
       "    </tr>\n",
       "    <tr>\n",
       "      <th>49</th>\n",
       "      <td>11</td>\n",
       "      <td>183</td>\n",
       "      <td>589</td>\n",
       "      <td>4.0</td>\n",
       "      <td>4</td>\n",
       "      <td>35.0</td>\n",
       "      <td>1560.0</td>\n",
       "      <td>3610.0</td>\n",
       "      <td>1645.0</td>\n",
       "      <td>167</td>\n",
       "      <td>12</td>\n",
       "      <td>268</td>\n",
       "      <td>25</td>\n",
       "      <td>0</td>\n",
       "    </tr>\n",
       "    <tr>\n",
       "      <th>304</th>\n",
       "      <td>3</td>\n",
       "      <td>109</td>\n",
       "      <td>394</td>\n",
       "      <td>6.0</td>\n",
       "      <td>4</td>\n",
       "      <td>52.0</td>\n",
       "      <td>1410.0</td>\n",
       "      <td>4461.0</td>\n",
       "      <td>1854.0</td>\n",
       "      <td>270</td>\n",
       "      <td>12</td>\n",
       "      <td>191</td>\n",
       "      <td>7</td>\n",
       "      <td>0</td>\n",
       "    </tr>\n",
       "    <tr>\n",
       "      <th>476</th>\n",
       "      <td>10</td>\n",
       "      <td>22</td>\n",
       "      <td>800</td>\n",
       "      <td>4.0</td>\n",
       "      <td>2</td>\n",
       "      <td>35.0</td>\n",
       "      <td>1501.0</td>\n",
       "      <td>3995.0</td>\n",
       "      <td>1695.0</td>\n",
       "      <td>240</td>\n",
       "      <td>12</td>\n",
       "      <td>0</td>\n",
       "      <td>2</td>\n",
       "      <td>1</td>\n",
       "    </tr>\n",
       "  </tbody>\n",
       "</table>\n",
       "<p>857 rows × 14 columns</p>\n",
       "</div>"
      ],
      "text/plain": [
       "      Make  Model  Variant  Cylinders  Fuel_Type  Fuel_Tank_Capacity  Height  \\\n",
       "1167    13     70      191        6.0          4                63.0  1308.0   \n",
       "708     32     93      779        4.0          2                55.0  1795.0   \n",
       "858     23     78      723        8.0          4                75.0  1353.0   \n",
       "81      28    168      502        4.0          4                46.0  1730.0   \n",
       "537     20     32      623        4.0          2                60.0  1977.0   \n",
       "...    ...    ...      ...        ...        ...                 ...     ...   \n",
       "462     31    234      877        4.0          2                44.0  1570.0   \n",
       "521     31    141      914        4.0          2                44.0  1607.0   \n",
       "49      11    183      589        4.0          4                35.0  1560.0   \n",
       "304      3    109      394        6.0          4                52.0  1410.0   \n",
       "476     10     22      800        4.0          2                35.0  1501.0   \n",
       "\n",
       "      Length   Width  ARAI_Certified_Mileage  ARAI_Certified_Mileage_for_CNG  \\\n",
       "1167  4482.0  1923.0                     271                              12   \n",
       "708   4735.0  1830.0                      71                              12   \n",
       "858   4881.0  2056.0                     269                              12   \n",
       "81    3970.0  1570.0                      84                              12   \n",
       "537   4440.0  1660.0                      83                              12   \n",
       "...      ...     ...                     ...                             ...   \n",
       "462   3995.0  1706.0                     203                              12   \n",
       "521   3994.0  1811.0                     217                              12   \n",
       "49    3610.0  1645.0                     167                              12   \n",
       "304   4461.0  1854.0                     270                              12   \n",
       "476   3995.0  1695.0                     240                              12   \n",
       "\n",
       "      Power  Basic_Warranty  Gear_Indicator  \n",
       "1167    162              15               0  \n",
       "708      59              15               1  \n",
       "858     196              25               0  \n",
       "81      285              25               1  \n",
       "537     250               7               1  \n",
       "...     ...             ...             ...  \n",
       "462     284              11               0  \n",
       "521      17              25               0  \n",
       "49      268              25               0  \n",
       "304     191               7               0  \n",
       "476       0               2               1  \n",
       "\n",
       "[857 rows x 14 columns]"
      ]
     },
     "execution_count": 3403,
     "metadata": {},
     "output_type": "execute_result"
    }
   ],
   "source": [
    "X_train"
   ]
  },
  {
   "cell_type": "code",
   "execution_count": 3404,
   "id": "b59af6c0",
   "metadata": {},
   "outputs": [
    {
     "data": {
      "text/html": [
       "<style>#sk-container-id-89 {color: black;background-color: white;}#sk-container-id-89 pre{padding: 0;}#sk-container-id-89 div.sk-toggleable {background-color: white;}#sk-container-id-89 label.sk-toggleable__label {cursor: pointer;display: block;width: 100%;margin-bottom: 0;padding: 0.3em;box-sizing: border-box;text-align: center;}#sk-container-id-89 label.sk-toggleable__label-arrow:before {content: \"▸\";float: left;margin-right: 0.25em;color: #696969;}#sk-container-id-89 label.sk-toggleable__label-arrow:hover:before {color: black;}#sk-container-id-89 div.sk-estimator:hover label.sk-toggleable__label-arrow:before {color: black;}#sk-container-id-89 div.sk-toggleable__content {max-height: 0;max-width: 0;overflow: hidden;text-align: left;background-color: #f0f8ff;}#sk-container-id-89 div.sk-toggleable__content pre {margin: 0.2em;color: black;border-radius: 0.25em;background-color: #f0f8ff;}#sk-container-id-89 input.sk-toggleable__control:checked~div.sk-toggleable__content {max-height: 200px;max-width: 100%;overflow: auto;}#sk-container-id-89 input.sk-toggleable__control:checked~label.sk-toggleable__label-arrow:before {content: \"▾\";}#sk-container-id-89 div.sk-estimator input.sk-toggleable__control:checked~label.sk-toggleable__label {background-color: #d4ebff;}#sk-container-id-89 div.sk-label input.sk-toggleable__control:checked~label.sk-toggleable__label {background-color: #d4ebff;}#sk-container-id-89 input.sk-hidden--visually {border: 0;clip: rect(1px 1px 1px 1px);clip: rect(1px, 1px, 1px, 1px);height: 1px;margin: -1px;overflow: hidden;padding: 0;position: absolute;width: 1px;}#sk-container-id-89 div.sk-estimator {font-family: monospace;background-color: #f0f8ff;border: 1px dotted black;border-radius: 0.25em;box-sizing: border-box;margin-bottom: 0.5em;}#sk-container-id-89 div.sk-estimator:hover {background-color: #d4ebff;}#sk-container-id-89 div.sk-parallel-item::after {content: \"\";width: 100%;border-bottom: 1px solid gray;flex-grow: 1;}#sk-container-id-89 div.sk-label:hover label.sk-toggleable__label {background-color: #d4ebff;}#sk-container-id-89 div.sk-serial::before {content: \"\";position: absolute;border-left: 1px solid gray;box-sizing: border-box;top: 0;bottom: 0;left: 50%;z-index: 0;}#sk-container-id-89 div.sk-serial {display: flex;flex-direction: column;align-items: center;background-color: white;padding-right: 0.2em;padding-left: 0.2em;position: relative;}#sk-container-id-89 div.sk-item {position: relative;z-index: 1;}#sk-container-id-89 div.sk-parallel {display: flex;align-items: stretch;justify-content: center;background-color: white;position: relative;}#sk-container-id-89 div.sk-item::before, #sk-container-id-89 div.sk-parallel-item::before {content: \"\";position: absolute;border-left: 1px solid gray;box-sizing: border-box;top: 0;bottom: 0;left: 50%;z-index: -1;}#sk-container-id-89 div.sk-parallel-item {display: flex;flex-direction: column;z-index: 1;position: relative;background-color: white;}#sk-container-id-89 div.sk-parallel-item:first-child::after {align-self: flex-end;width: 50%;}#sk-container-id-89 div.sk-parallel-item:last-child::after {align-self: flex-start;width: 50%;}#sk-container-id-89 div.sk-parallel-item:only-child::after {width: 0;}#sk-container-id-89 div.sk-dashed-wrapped {border: 1px dashed gray;margin: 0 0.4em 0.5em 0.4em;box-sizing: border-box;padding-bottom: 0.4em;background-color: white;}#sk-container-id-89 div.sk-label label {font-family: monospace;font-weight: bold;display: inline-block;line-height: 1.2em;}#sk-container-id-89 div.sk-label-container {text-align: center;}#sk-container-id-89 div.sk-container {/* jupyter's `normalize.less` sets `[hidden] { display: none; }` but bootstrap.min.css set `[hidden] { display: none !important; }` so we also need the `!important` here to be able to override the default hidden behavior on the sphinx rendered scikit-learn.org. See: https://github.com/scikit-learn/scikit-learn/issues/21755 */display: inline-block !important;position: relative;}#sk-container-id-89 div.sk-text-repr-fallback {display: none;}</style><div id=\"sk-container-id-89\" class=\"sk-top-container\"><div class=\"sk-text-repr-fallback\"><pre>RandomForestRegressor()</pre><b>In a Jupyter environment, please rerun this cell to show the HTML representation or trust the notebook. <br />On GitHub, the HTML representation is unable to render, please try loading this page with nbviewer.org.</b></div><div class=\"sk-container\" hidden><div class=\"sk-item\"><div class=\"sk-estimator sk-toggleable\"><input class=\"sk-toggleable__control sk-hidden--visually\" id=\"sk-estimator-id-89\" type=\"checkbox\" checked><label for=\"sk-estimator-id-89\" class=\"sk-toggleable__label sk-toggleable__label-arrow\">RandomForestRegressor</label><div class=\"sk-toggleable__content\"><pre>RandomForestRegressor()</pre></div></div></div></div></div>"
      ],
      "text/plain": [
       "RandomForestRegressor()"
      ]
     },
     "execution_count": 3404,
     "metadata": {},
     "output_type": "execute_result"
    }
   ],
   "source": [
    "rf = RandomForestRegressor(n_estimators=100)\n",
    "rf.fit(X_train, y_train)"
   ]
  },
  {
   "cell_type": "code",
   "execution_count": 3405,
   "id": "ca0a7ef9",
   "metadata": {},
   "outputs": [
    {
     "data": {
      "text/plain": [
       "array([1.02399525e-02, 1.68114767e-02, 7.57994571e-03, 6.96248534e-01,\n",
       "       1.98329233e-04, 2.54050687e-02, 1.97288085e-02, 3.93747766e-02,\n",
       "       7.93167037e-02, 6.16789701e-03, 7.53838295e-06, 9.56340256e-02,\n",
       "       2.78074710e-03, 5.06196177e-04])"
      ]
     },
     "execution_count": 3405,
     "metadata": {},
     "output_type": "execute_result"
    }
   ],
   "source": [
    "rf.feature_importances_"
   ]
  },
  {
   "cell_type": "code",
   "execution_count": 3406,
   "id": "c70b5e1f",
   "metadata": {},
   "outputs": [
    {
     "data": {
      "text/plain": [
       "<BarContainer object of 14 artists>"
      ]
     },
     "execution_count": 3406,
     "metadata": {},
     "output_type": "execute_result"
    },
    {
     "data": {
      "image/png": "[encoded data removed]",
      "text/plain": [
       "<Figure size 432x288 with 1 Axes>"
      ]
     },
     "metadata": {
      "needs_background": "light"
     },
     "output_type": "display_data"
    }
   ],
   "source": [
    "plt.barh(data2.columns, rf.feature_importances_)"
   ]
  },
  {
   "cell_type": "code",
   "execution_count": 3407,
   "id": "911c281f",
   "metadata": {
    "scrolled": false
   },
   "outputs": [
    {
     "data": {
      "text/plain": [
       "Text(0.5, 0, 'Random Forest Feature Importance')"
      ]
     },
     "execution_count": 3407,
     "metadata": {},
     "output_type": "execute_result"
    },
    {
     "data": {
      "image/png": "[encoded data removed]",
      "text/plain": [
       "<Figure size 432x288 with 1 Axes>"
      ]
     },
     "metadata": {
      "needs_background": "light"
     },
     "output_type": "display_data"
    }
   ],
   "source": [
    "sorted_idx = rf.feature_importances_.argsort()\n",
    "plt.barh(data2.columns[sorted_idx], rf.feature_importances_[sorted_idx])\n",
    "plt.xlabel(\"Random Forest Feature Importance\")"
   ]
  },
  {
   "cell_type": "code",
   "execution_count": 3408,
   "id": "d420312d",
   "metadata": {},
   "outputs": [],
   "source": [
    "perm_importance = permutation_importance(rf, X_test, y_test)"
   ]
  },
  {
   "cell_type": "code",
   "execution_count": 3409,
   "id": "c88cc9f2",
   "metadata": {},
   "outputs": [
    {
     "data": {
      "text/plain": [
       "Text(0.5, 0, 'Permutation Importance')"
      ]
     },
     "execution_count": 3409,
     "metadata": {},
     "output_type": "execute_result"
    },
    {
     "data": {
      "image/png": "[encoded data removed]",
      "text/plain": [
       "<Figure size 432x288 with 1 Axes>"
      ]
     },
     "metadata": {
      "needs_background": "light"
     },
     "output_type": "display_data"
    }
   ],
   "source": [
    "sorted_idx = perm_importance.importances_mean.argsort()\n",
    "plt.barh(data2.columns[sorted_idx], perm_importance.importances_mean[sorted_idx])\n",
    "plt.xlabel(\"Permutation Importance\")"
   ]
  },
  {
   "cell_type": "code",
   "execution_count": 3410,
   "id": "1c8c167a",
   "metadata": {
    "scrolled": false
   },
   "outputs": [],
   "source": [
    "y_pred_test = rf.predict(X_test)"
   ]
  },
  {
   "cell_type": "code",
   "execution_count": 3411,
   "id": "9cb9fc42",
   "metadata": {},
   "outputs": [
    {
     "data": {
      "text/plain": [
       "1.0"
      ]
     },
     "execution_count": 3411,
     "metadata": {},
     "output_type": "execute_result"
    }
   ],
   "source": [
    "from sklearn.model_selection import GridSearchCV\n",
    "from sklearn.neighbors import KNeighborsClassifier\n",
    "from sklearn.pipeline import Pipeline\n",
    "from sklearn.preprocessing import MinMaxScaler\n",
    "knn_pipe = Pipeline([('mms', MinMaxScaler()),\n",
    "                     ('knn', KNeighborsClassifier())])\n",
    "params = [{'knn__n_neighbors': [3, 5, 7, 9],\n",
    "         'knn__weights': ['uniform', 'distance'],\n",
    "         'knn__leaf_size': [15, 20]}]\n",
    "gs_knn = GridSearchCV(knn_pipe,\n",
    "                      param_grid=params,\n",
    "                      scoring='accuracy',\n",
    "                      cv=5)\n",
    "gs_knn.fit(X_train, y_train)\n",
    "gs_knn.best_params_\n",
    "\n",
    "{'knn__leaf_size': 15, 'knn__n_neighbors': 5, 'knn__weights': 'distance'}\n",
    "\n",
    "# find best model score\n",
    "gs_knn.score(X_train, y_train)\n"
   ]
  },
  {
   "cell_type": "code",
   "execution_count": null,
   "id": "26ed5629",
   "metadata": {},
   "outputs": [],
   "source": []
  },
  {
   "cell_type": "code",
   "execution_count": null,
   "id": "f7ea7778",
   "metadata": {},
   "outputs": [],
   "source": []
  },
  {
   "cell_type": "code",
   "execution_count": null,
   "id": "e0b53679",
   "metadata": {},
   "outputs": [],
   "source": []
  },
  {
   "cell_type": "code",
   "execution_count": null,
   "id": "14d47187",
   "metadata": {},
   "outputs": [],
   "source": []
  },
  {
   "cell_type": "code",
   "execution_count": null,
   "id": "70d0f0e6",
   "metadata": {},
   "outputs": [],
   "source": []
  },
  {
   "cell_type": "code",
   "execution_count": null,
   "id": "dcddd0b9",
   "metadata": {},
   "outputs": [],
   "source": []
  },
  {
   "cell_type": "markdown",
   "id": "46d56a43",
   "metadata": {},
   "source": [
    "<h2> Web Application </h2>"
   ]
  },
  {
   "cell_type": "code",
   "execution_count": 3412,
   "id": "86150c3b",
   "metadata": {},
   "outputs": [],
   "source": [
    "text_0 = widgets.HTML(value=\"<h1>CUSTOMER SECTION</h1>\")\n",
    "text_1 = widgets.HTML(value=\"<h3>Cars Preferred by a Customer:</h3>\")"
   ]
  },
  {
   "cell_type": "code",
   "execution_count": 3413,
   "id": "cd2af8f7",
   "metadata": {},
   "outputs": [],
   "source": [
    "text_2=widgets.HTML(value=\"<h4>Ex-Showroom Price</h4>\")\n",
    "price = widgets.ToggleButtons(\n",
    "            options=['minimum', 'maximum']\n",
    "        )\n",
    "text_3=widgets.HTML(value=\"<h4>Cylinders</h4>\")\n",
    "cyl = widgets.ToggleButtons(\n",
    "            options=['minimum', 'maximum']\n",
    "        )\n",
    "text_4=widgets.HTML(value=\"<h4>Fuel Tank Capacity</h4>\")\n",
    "fuel = widgets.ToggleButtons(\n",
    "            options=['minimum', 'maximum']\n",
    "        )\n",
    "text_5=widgets.HTML(value=\"<h4>Height</h4>\")\n",
    "height = widgets.ToggleButtons(\n",
    "            options=['minimum', 'maximum']\n",
    "        )\n",
    "text_6=widgets.HTML(value=\"<h4>Width</h4>\")\n",
    "width = widgets.ToggleButtons(\n",
    "            options=['minimum', 'maximum']\n",
    "        )\n",
    "text_7=widgets.HTML(value=\"<h4>Length</h4>\")\n",
    "length = widgets.ToggleButtons(\n",
    "            options=['minimum', 'maximum']\n",
    "        )\n",
    "\n",
    "min_max(price.value,cyl.value,fuel.value,height.value,width.value,length.value)\n"
   ]
  },
  {
   "cell_type": "code",
   "execution_count": 3414,
   "id": "8fe91649",
   "metadata": {},
   "outputs": [],
   "source": [
    "button_send = widgets.Button(\n",
    "                description='Generate Cars Dataset',\n",
    "                tooltip='Send',\n",
    "                style={'description_width': 'initial'}\n",
    "            )\n",
    "\n",
    "output = widgets.Output()\n",
    "from pivottablejs import pivot_ui\n",
    "\n",
    "def print_full(x):\n",
    "    pd.set_option('display.max_rows', len(x))\n",
    "    print(x)\n",
    "    pd.reset_option('display.max_rows')\n",
    "    \n",
    "from IPython.core.display import HTML\n",
    "\n",
    "\n",
    "def on_button_clicked(event):\n",
    "    \n",
    "            df = pd.DataFrame(data.sort_values(by=\"sum\",ascending=False))\n",
    "            df_temp=df.iloc[:5]\n",
    "            display(HTML(df_temp.to_html()))\n",
    "    \n",
    "button_send.on_click(on_button_clicked)\n",
    "\n",
    "vbox_result = widgets.VBox([button_send])"
   ]
  },
  {
   "cell_type": "code",
   "execution_count": 3415,
   "id": "3aa4a135",
   "metadata": {},
   "outputs": [],
   "source": [
    "text_9 = widgets.HTML(value=\"<h4>Enter the model of the car:</h4>\")\n",
    "\n",
    "model = widgets.Text(placeholder='model')\n",
    "\n",
    "input_widget0 = widgets.HBox([model])"
   ]
  },
  {
   "cell_type": "code",
   "execution_count": 3416,
   "id": "3ce9dcb3",
   "metadata": {},
   "outputs": [],
   "source": [
    "text_10 = widgets.HTML(value=\"<h4>Enter the variant:</h4>\")\n",
    "\n",
    "variantt = widgets.Text(placeholder='variant')\n",
    "\n",
    "input_widget1 = widgets.HBox([variantt])"
   ]
  },
  {
   "cell_type": "code",
   "execution_count": 3417,
   "id": "f8f1fa46",
   "metadata": {},
   "outputs": [],
   "source": [
    "text_11 = widgets.HTML(value=\"<h4>Choose the number of cylinders:</h4>\")\n",
    "\n",
    "cylinders = widgets.IntSlider(\n",
    "            value=3,\n",
    "            min=2, \n",
    "            max=16,\n",
    "            step=1,\n",
    "            style={'description_width': 'initial', 'handle_color': '#a01659'} \n",
    "        )\n",
    "\n",
    "input_widget2 = widgets.HBox([cylinders])"
   ]
  },
  {
   "cell_type": "code",
   "execution_count": 3418,
   "id": "de6ff2bf",
   "metadata": {},
   "outputs": [],
   "source": [
    "text_12 = widgets.HTML(value=\"<h4>Choose the Fuel type:</h4>\")\n",
    "\n",
    "fueltype= widgets.Dropdown(\n",
    "          options=['CNG', 'CNG+Petrol', 'Diesel','Electric','Hybrid','Petrol']\n",
    "           )\n",
    "\n",
    "input_widgets1 = widgets.HBox([fueltype])"
   ]
  },
  {
   "cell_type": "code",
   "execution_count": 3419,
   "id": "052decb8",
   "metadata": {},
   "outputs": [],
   "source": [
    "text_13 = widgets.HTML(value=\"<h4>Enter the capacity of the fuel tank(litres):</h4>\")\n",
    "\n",
    "fuelcapacity = widgets.Text(placeholder='capacity')\n",
    "\n",
    "input_widget4 = widgets.HBox([fuelcapacity])"
   ]
  },
  {
   "cell_type": "code",
   "execution_count": 3420,
   "id": "a23281fe",
   "metadata": {},
   "outputs": [],
   "source": [
    "text_14 = widgets.HTML(value=\"<h4>Enter the height of the vehicle(mm):</h4>\")\n",
    "\n",
    "cheight = widgets.Text(placeholder='height')\n",
    "\n",
    "input_widget5 = widgets.HBox([cheight])"
   ]
  },
  {
   "cell_type": "code",
   "execution_count": 3421,
   "id": "11495586",
   "metadata": {},
   "outputs": [],
   "source": [
    "text_15 = widgets.HTML(value=\"<h4>Enter the length of the vehicle(mm):</h4>\")\n",
    "\n",
    "clength = widgets.Text(placeholder='length')\n",
    "\n",
    "input_widget6 = widgets.HBox([clength])"
   ]
  },
  {
   "cell_type": "code",
   "execution_count": 3422,
   "id": "c059271c",
   "metadata": {},
   "outputs": [],
   "source": [
    "text_16 = widgets.HTML(value=\"<h4>Enter the width of the vehicle(mm):</h4>\")\n",
    "\n",
    "cwidth = widgets.Text(placeholder='width')\n",
    "\n",
    "input_widget7 = widgets.HBox([cwidth])"
   ]
  },
  {
   "cell_type": "code",
   "execution_count": 3423,
   "id": "b9421171",
   "metadata": {},
   "outputs": [],
   "source": [
    "text_17 = widgets.HTML(value=\"<h4>Enter the ARAI Certified Mileage(km/litre):</h4>\")\n",
    "\n",
    "mileage = widgets.Text(placeholder='mileage')\n",
    "\n",
    "input_widget8 = widgets.HBox([mileage])"
   ]
  },
  {
   "cell_type": "code",
   "execution_count": 3424,
   "id": "0f74a631",
   "metadata": {},
   "outputs": [],
   "source": [
    "text_18 = widgets.HTML(value=\"<h4>Enter the ARAI Certified Mileage for CNG(km/kg):</h4>\")\n",
    "\n",
    "mileagecng = widgets.Text(placeholder='mileage')\n",
    "\n",
    "input_widget9 = widgets.HBox([mileagecng])"
   ]
  },
  {
   "cell_type": "code",
   "execution_count": 3425,
   "id": "88901a35",
   "metadata": {},
   "outputs": [],
   "source": [
    "text_19 = widgets.HTML(value=\"<h4>Enter the Power of the vehicle required(rpm):</h4>\")\n",
    "\n",
    "power = widgets.Text(placeholder='power')\n",
    "\n",
    "input_widget10 = widgets.HBox([power])"
   ]
  },
  {
   "cell_type": "code",
   "execution_count": 3426,
   "id": "a5acc1c9",
   "metadata": {},
   "outputs": [],
   "source": [
    "text_20 = widgets.HTML(value=\"<h4>Enter the Basic Warranty required for vehicle:</h4>\")\n",
    "\n",
    "basicwarranty = widgets.Text(placeholder='warranty')\n",
    "\n",
    "input_widget11 = widgets.HBox([basicwarranty])"
   ]
  },
  {
   "cell_type": "code",
   "execution_count": 3427,
   "id": "7a05833d",
   "metadata": {},
   "outputs": [],
   "source": [
    "text_21 = widgets.HTML(value=\"<h4>Is Gear Indicator present:</h4>\")\n",
    "\n",
    "gearindicator = widgets.RadioButtons(\n",
    "                options=['Yes', 'No'],\n",
    "                    disabled=False\n",
    "                )\n",
    "\n",
    "input_widget12 = widgets.HBox([gearindicator])"
   ]
  },
  {
   "cell_type": "code",
   "execution_count": 3428,
   "id": "218efc2f",
   "metadata": {},
   "outputs": [],
   "source": [
    "button_send2 = widgets.Button(\n",
    "                description='Predicted Price(Rs)',\n",
    "                tooltip='Send',\n",
    "                style={'description_width': 'initial'}\n",
    "            )\n",
    "\n",
    "out = widgets.Output()\n",
    "\n",
    "def on_button_clicked2(button_send2):\n",
    "   \n",
    "            if (company.value==\"Tata\"):\n",
    "                companyy=1\n",
    "            else:\n",
    "                companyy=0\n",
    "            \n",
    "            if (model.value==\"Nano Genx\"):\n",
    "                modell=1\n",
    "            else:\n",
    "                modell=0\n",
    "                \n",
    "            if (variantt.value==\"Xt\"):\n",
    "                varianttt=1\n",
    "            else:\n",
    "                varianttt=0\n",
    "                \n",
    "            if (fueltype.value==\"Petrol\"):\n",
    "                fueltypee=1 \n",
    "            else: \n",
    "                fueltypee=0\n",
    "                \n",
    "            if (power.value==\"38PS@5500rpm\"):\n",
    "                powerr=1\n",
    "            else:\n",
    "                powerr=0\n",
    "                \n",
    "                \n",
    "            if (basicwarranty.value==\"1 year\"):\n",
    "                basicwarrantyy=1\n",
    "            else:\n",
    "                basicwarrantyy=0\n",
    "                \n",
    "                \n",
    "            if (gearindicator.value==\"yes\"):\n",
    "                gearindicatorr=1\n",
    "            else:\n",
    "                gearindicatorr=0\n",
    "                \n",
    "            l = [[companyy, modell, varianttt, cylinders.value, fueltypee, fuelcapacity.value, cheight.value, clength.value, cwidth.value, mileage.value, mileagecng.value, powerr, basicwarrantyy, gearindicatorr]]\n",
    "\n",
    "            ae= pd.DataFrame(l, columns=X_train.columns)\n",
    "\n",
    "            y_pred_test = rf.predict(ae)\n",
    "            print(\"The estimated price for desired car is:\")\n",
    "            print(\"Rs.\", y_pred_test)\n",
    "           \n",
    "    \n",
    "button_send2.on_click(on_button_clicked2)\n",
    "\n",
    "vbox_result2 = widgets.VBox([button_send2])"
   ]
  },
  {
   "cell_type": "code",
   "execution_count": 3429,
   "id": "cddcea52",
   "metadata": {},
   "outputs": [],
   "source": [
    "text_22 = widgets.HTML(value=\"<h1>MANAGEMENT SECTION</h1>\")\n",
    "text_23 = widgets.HTML(value=\"<h3>Compare Various Cars:</h3>\")"
   ]
  },
  {
   "cell_type": "code",
   "execution_count": 3430,
   "id": "d75847ed",
   "metadata": {},
   "outputs": [],
   "source": [
    "text_24 = widgets.HTML(value=\"<h4>Enter the Models along with variant that you want to compare:</h4>\")\n",
    "\n",
    "mname1 = widgets.Text(placeholder='model name')\n",
    "vname1 = widgets.Text(placeholder='variant name')\n",
    "\n",
    "mname2 = widgets.Text(placeholder='model name')\n",
    "vname2 = widgets.Text(placeholder='variant name')\n",
    "\n",
    "input_widget13 = widgets.HBox([mname1])\n",
    "input_widget14 = widgets.HBox([mname2])\n",
    "\n",
    "input_widget15 = widgets.HBox([vname1])\n",
    "input_widget16 = widgets.HBox([vname2])\n"
   ]
  },
  {
   "cell_type": "markdown",
   "id": "3fdbafd5",
   "metadata": {},
   "source": [
    "<h2> Comparision of Cars </h2>"
   ]
  },
  {
   "cell_type": "code",
   "execution_count": 3431,
   "id": "4fb04074",
   "metadata": {},
   "outputs": [],
   "source": [
    "text_25 = widgets.HTML(value=\"<h4>Choose the basis for comparision:</h4>\")\n",
    "\n",
    "comparision= widgets.Dropdown(\n",
    "              options=['Ex-Showroom_Price','Cylinders','Fuel_Tank_Capacity','Height','Length','Width']\n",
    "               )\n",
    "\n",
    "input_widget17 = widgets.HBox([comparision])"
   ]
  },
  {
   "cell_type": "code",
   "execution_count": 3432,
   "id": "7f3c5ec4",
   "metadata": {},
   "outputs": [],
   "source": [
    "import matplotlib.pyplot as plt\n",
    "button_send3 = widgets.Button(\n",
    "                description='Compare!',\n",
    "                tooltip='Send',\n",
    "                style={'description_width': 'initial'}\n",
    "            )\n",
    "\n",
    "output = widgets.Output()\n",
    "\n",
    "def on_button_clicked3(event):\n",
    "            \n",
    "            new=data3[data3['Model']==mname1.value]\n",
    "            new=new[new['Variant']==vname1.value]\n",
    "            \n",
    "            new2=data3[data3['Model']==mname2.value]\n",
    "            new2=new2[new2['Variant']==vname2.value]\n",
    "\n",
    "            plt.figure(figsize=(5,5))\n",
    "            temp_new = new.append(new2, ignore_index=True)\n",
    "            plt.bar(temp_new['Model'],temp_new[comparision.value],width = 0.3)\n",
    "            plt.figure(figsize=(1,1))\n",
    "\n",
    "    \n",
    "button_send3.on_click(on_button_clicked3)\n",
    "\n",
    "vbox_result3 = widgets.VBox([button_send3])\n"
   ]
  },
  {
   "cell_type": "code",
   "execution_count": 3433,
   "id": "247d8d03",
   "metadata": {},
   "outputs": [],
   "source": [
    "image_headline = widgets.Image(\n",
    "                    value=image,\n",
    "                    format='jpg',\n",
    "                    width='600'\n",
    "                )\n",
    "vbox_image = widgets.VBox([image_headline])"
   ]
  },
  {
   "cell_type": "code",
   "execution_count": 3434,
   "id": "c6b6ad79",
   "metadata": {},
   "outputs": [],
   "source": [
    "text_26 = widgets.HTML(value=\"<h4>Enter the company of car</h4>\")\n",
    "\n",
    "company = widgets.Text(placeholder='company')\n",
    "\n",
    "input_widget18 = widgets.HBox([company])\n"
   ]
  },
  {
   "cell_type": "code",
   "execution_count": 3435,
   "id": "34d045e7",
   "metadata": {},
   "outputs": [],
   "source": [
    "vbox_text = widgets.VBox([vbox_image5, text_0, text_1,text_2, price, text_3, cyl, text_4, fuel, text_5, height, text_6, width, text_7, length, vbox_result])"
   ]
  },
  {
   "cell_type": "code",
   "execution_count": 3436,
   "id": "b38713ca",
   "metadata": {},
   "outputs": [],
   "source": [
    "vbox_text2 = widgets.VBox([text_8, text_26, input_widget18, text_9, input_widget0, text_10, input_widget1, text_11, input_widget2, text_12, input_widget3, text_13, input_widget4, text_14, input_widget5, text_15, input_widget6, text_16, input_widget7, text_17, input_widget8, text_18, input_widget9, text_19, input_widget10, text_20, input_widget11, text_21, input_widget12, vbox_result2])"
   ]
  },
  {
   "cell_type": "code",
   "execution_count": 3437,
   "id": "562182b6",
   "metadata": {},
   "outputs": [],
   "source": [
    "vbox_text3 = widgets.VBox([text_22, text_23,text_24,input_widget13, input_widget15, input_widget14, input_widget16, text_25, input_widget17, vbox_result3])"
   ]
  },
  {
   "cell_type": "code",
   "execution_count": 3458,
   "id": "f75617fa",
   "metadata": {
    "scrolled": false
   },
   "outputs": [
    {
     "data": {
      "application/vnd.jupyter.widget-view+json": {
       "model_id": "e61563f6d14c41ccbb32fac3731d3202",
       "version_major": 2,
       "version_minor": 0
      },
      "text/plain": [
       "Accordion(children=(HBox(children=(VBox(children=(VBox(children=(Image(value=b'\\xff\\xd8\\xff\\xe0\\x00\\x10JFIF\\x0…"
      ]
     },
     "metadata": {},
     "output_type": "display_data"
    },
    {
     "data": {
      "text/html": [
       "<table border=\"1\" class=\"dataframe\">\n",
       "  <thead>\n",
       "    <tr style=\"text-align: right;\">\n",
       "      <th></th>\n",
       "      <th>Make</th>\n",
       "      <th>Model</th>\n",
       "      <th>Variant</th>\n",
       "      <th>Ex-Showroom_Price</th>\n",
       "      <th>Cylinders</th>\n",
       "      <th>Fuel_Type</th>\n",
       "      <th>Fuel_Tank_Capacity</th>\n",
       "      <th>Height</th>\n",
       "      <th>Length</th>\n",
       "      <th>Width</th>\n",
       "      <th>ARAI_Certified_Mileage</th>\n",
       "      <th>ARAI_Certified_Mileage_for_CNG</th>\n",
       "      <th>Power</th>\n",
       "      <th>Basic_Warranty</th>\n",
       "      <th>Gear_Indicator</th>\n",
       "      <th>Cylinders_normalized</th>\n",
       "      <th>Ex-Showroom_Price_normalized</th>\n",
       "      <th>Fuel_Tank_Capacity_normalized</th>\n",
       "      <th>Height_normalized</th>\n",
       "      <th>Width_normalized</th>\n",
       "      <th>Length_normalized</th>\n",
       "      <th>sum</th>\n",
       "    </tr>\n",
       "  </thead>\n",
       "  <tbody>\n",
       "    <tr>\n",
       "      <th>1</th>\n",
       "      <td>Tata</td>\n",
       "      <td>Nano Genx</td>\n",
       "      <td>Xe</td>\n",
       "      <td>236447</td>\n",
       "      <td>2.0</td>\n",
       "      <td>Petrol</td>\n",
       "      <td>24.0</td>\n",
       "      <td>1652.0</td>\n",
       "      <td>3164.0</td>\n",
       "      <td>1750.0</td>\n",
       "      <td>23.6 km/litre</td>\n",
       "      <td>NaN</td>\n",
       "      <td>38PS@5500rpm</td>\n",
       "      <td>2 years /75000 Kms (years/distance whichever comes first)</td>\n",
       "      <td>NaN</td>\n",
       "      <td>0.999918</td>\n",
       "      <td>0.999031</td>\n",
       "      <td>0.999993</td>\n",
       "      <td>0.999999</td>\n",
       "      <td>1.0</td>\n",
       "      <td>0.999999</td>\n",
       "      <td>0.999691</td>\n",
       "    </tr>\n",
       "    <tr>\n",
       "      <th>4</th>\n",
       "      <td>Tata</td>\n",
       "      <td>Nano Genx</td>\n",
       "      <td>Xm</td>\n",
       "      <td>272223</td>\n",
       "      <td>2.0</td>\n",
       "      <td>Petrol</td>\n",
       "      <td>24.0</td>\n",
       "      <td>1652.0</td>\n",
       "      <td>3164.0</td>\n",
       "      <td>1750.0</td>\n",
       "      <td>23.6 km/litre</td>\n",
       "      <td>NaN</td>\n",
       "      <td>38PS@5500rpm</td>\n",
       "      <td>2 years /75000 Kms (years/distance whichever comes first)</td>\n",
       "      <td>NaN</td>\n",
       "      <td>0.999918</td>\n",
       "      <td>0.998884</td>\n",
       "      <td>0.999993</td>\n",
       "      <td>0.999999</td>\n",
       "      <td>1.0</td>\n",
       "      <td>0.999999</td>\n",
       "      <td>0.999647</td>\n",
       "    </tr>\n",
       "    <tr>\n",
       "      <th>6</th>\n",
       "      <td>Datsun</td>\n",
       "      <td>Redi-Go</td>\n",
       "      <td>D</td>\n",
       "      <td>279650</td>\n",
       "      <td>3.0</td>\n",
       "      <td>Petrol</td>\n",
       "      <td>28.0</td>\n",
       "      <td>1541.0</td>\n",
       "      <td>3429.0</td>\n",
       "      <td>1560.0</td>\n",
       "      <td>25.17 km/litre</td>\n",
       "      <td>NaN</td>\n",
       "      <td>54PS@5678rpm</td>\n",
       "      <td>2 years / Unlimited Kms</td>\n",
       "      <td>NaN</td>\n",
       "      <td>0.999877</td>\n",
       "      <td>0.998854</td>\n",
       "      <td>0.999992</td>\n",
       "      <td>0.999999</td>\n",
       "      <td>1.0</td>\n",
       "      <td>0.999999</td>\n",
       "      <td>0.999630</td>\n",
       "    </tr>\n",
       "    <tr>\n",
       "      <th>881</th>\n",
       "      <td>Maruti Suzuki</td>\n",
       "      <td>Omni</td>\n",
       "      <td>5 Str Bs-Iv</td>\n",
       "      <td>282778</td>\n",
       "      <td>3.0</td>\n",
       "      <td>Petrol</td>\n",
       "      <td>35.0</td>\n",
       "      <td>1640.0</td>\n",
       "      <td>3370.0</td>\n",
       "      <td>1410.0</td>\n",
       "      <td>16.8 km/litre</td>\n",
       "      <td>NaN</td>\n",
       "      <td>34.7PS@5000rpm</td>\n",
       "      <td>2 years /40000 Kms (years/distance whichever comes first)</td>\n",
       "      <td>NaN</td>\n",
       "      <td>0.999877</td>\n",
       "      <td>0.998841</td>\n",
       "      <td>0.999990</td>\n",
       "      <td>0.999999</td>\n",
       "      <td>1.0</td>\n",
       "      <td>0.999999</td>\n",
       "      <td>0.999625</td>\n",
       "    </tr>\n",
       "    <tr>\n",
       "      <th>13</th>\n",
       "      <td>Renault</td>\n",
       "      <td>Kwid</td>\n",
       "      <td>Std 0.8</td>\n",
       "      <td>283290</td>\n",
       "      <td>3.0</td>\n",
       "      <td>Petrol</td>\n",
       "      <td>28.0</td>\n",
       "      <td>1490.0</td>\n",
       "      <td>3731.0</td>\n",
       "      <td>1579.0</td>\n",
       "      <td>25.17 km/litre</td>\n",
       "      <td>NaN</td>\n",
       "      <td>54PS@5678rpm</td>\n",
       "      <td>2 Years / 50,000 Kms (Whichever comes earlier)</td>\n",
       "      <td>Yes</td>\n",
       "      <td>0.999877</td>\n",
       "      <td>0.998839</td>\n",
       "      <td>0.999992</td>\n",
       "      <td>0.999999</td>\n",
       "      <td>1.0</td>\n",
       "      <td>0.999999</td>\n",
       "      <td>0.999625</td>\n",
       "    </tr>\n",
       "  </tbody>\n",
       "</table>"
      ],
      "text/plain": [
       "<IPython.core.display.HTML object>"
      ]
     },
     "metadata": {},
     "output_type": "display_data"
    },
    {
     "name": "stdout",
     "output_type": "stream",
     "text": [
      "The estimated price for desired car is:\n",
      "Rs. [903058.8]\n"
     ]
    },
    {
     "data": {
      "image/png": "[encoded data removed]",
      "text/plain": [
       "<Figure size 360x360 with 1 Axes>"
      ]
     },
     "metadata": {
      "needs_background": "light"
     },
     "output_type": "display_data"
    },
    {
     "data": {
      "text/plain": [
       "<Figure size 72x72 with 0 Axes>"
      ]
     },
     "metadata": {},
     "output_type": "display_data"
    }
   ],
   "source": [
    "page= widgets.HBox([vbox_text])\n",
    "\n",
    "page2= widgets.HBox([vbox_text2])\n",
    "\n",
    "page1 = widgets.VBox([vbox_text3])\n",
    "\n",
    "accordion = widgets.Accordion(children=[page, page2, page1])\n",
    "accordion"
   ]
  },
  {
   "cell_type": "code",
   "execution_count": null,
   "id": "655c599d",
   "metadata": {},
   "outputs": [],
   "source": []
  }
 ],
 "metadata": {
  "kernelspec": {
   "display_name": "Python 3 (ipykernel)",
   "language": "python",
   "name": "python3"
  },
  "language_info": {
   "codemirror_mode": {
    "name": "ipython",
    "version": 3
   },
   "file_extension": ".py",
   "mimetype": "text/x-python",
   "name": "python",
   "nbconvert_exporter": "python",
   "pygments_lexer": "ipython3",
   "version": "3.10.4"
  }
 },
 "nbformat": 4,
 "nbformat_minor": 5
}
