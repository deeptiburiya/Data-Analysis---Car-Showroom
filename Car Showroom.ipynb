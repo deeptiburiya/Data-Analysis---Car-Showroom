{
 "cells": [
  {
   "cell_type": "code",
   "execution_count": 3459,
   "id": "f13b1d7f",
   "metadata": {},
   "outputs": [],
   "source": [
    "import warnings\n",
    "warnings.filterwarnings('ignore')\n",
    "\n",
    "import ipywidgets as widgets\n",
    "from IPython.display import display, clear_output\n",
    "import ipywidgets as widgets\n",
    "import IPython.display\n",
    "from IPython.display import display, clear_output\n",
    "\n",
    "import pandas as pd\n",
    "import numpy as np\n",
    "import math\n",
    "\n",
    "from sklearn import preprocessing\n",
    "from sklearn import linear_model\n",
    "from sklearn.datasets import load_boston\n",
    "from sklearn.model_selection import train_test_split\n",
    "from sklearn.ensemble import RandomForestRegressor\n",
    "from sklearn.inspection import permutation_importance\n",
    "from matplotlib import pyplot as plt\n",
    "\n",
    "from sklearn.model_selection import GridSearchCV\n",
    "from sklearn.neighbors import KNeighborsClassifier\n",
    "from sklearn.pipeline import Pipeline\n",
    "from sklearn.preprocessing import MinMaxScaler"
   ]
  },
  {
   "cell_type": "code",
   "execution_count": 3460,
   "id": "256e639d",
   "metadata": {},
   "outputs": [],
   "source": [
    "data=pd.read_csv(\"cars_engage_2022.csv\")"
   ]
  },
  {
   "cell_type": "code",
   "execution_count": 3461,
   "id": "07df11f1",
   "metadata": {},
   "outputs": [],
   "source": [
    "data=data[['Make','Model','Variant','Ex-Showroom_Price','Cylinders','Fuel_Type','Fuel_Tank_Capacity','Height','Length','Width','ARAI_Certified_Mileage','ARAI_Certified_Mileage_for_CNG','Power','Basic_Warranty','Gear_Indicator']]"
   ]
  },
  {
   "cell_type": "code",
   "execution_count": 3462,
   "id": "642c5049",
   "metadata": {},
   "outputs": [],
   "source": [
    "data['Ex-Showroom_Price'] = data['Ex-Showroom_Price'].str.replace(',', '')\n",
    "data['Ex-Showroom_Price'] = data['Ex-Showroom_Price'].str.replace('Rs.', '')\n",
    "data['Ex-Showroom_Price'] = data['Ex-Showroom_Price'].astype(int)\n",
    "data['Fuel_Tank_Capacity'] = data['Fuel_Tank_Capacity'].str.replace('litres', '')\n",
    "data['Fuel_Tank_Capacity'] = data['Fuel_Tank_Capacity'].astype(float)\n",
    "data['Height'] = data['Height'].str.replace('mm', '')\n",
    "data['Height'] = data['Height'].astype(float)\n",
    "data['Length'] = data['Length'].str.replace('mm', '')\n",
    "data['Length'] = data['Length'].astype(float)\n",
    "data['Width'] = data['Width'].str.replace('mm', '')\n",
    "data['Width'] = data['Width'].astype(float)"
   ]
  },
  {
   "cell_type": "code",
   "execution_count": 3463,
   "id": "c0802716",
   "metadata": {},
   "outputs": [
    {
     "data": {
      "text/html": [
       "<div>\n",
       "<style scoped>\n",
       "    .dataframe tbody tr th:only-of-type {\n",
       "        vertical-align: middle;\n",
       "    }\n",
       "\n",
       "    .dataframe tbody tr th {\n",
       "        vertical-align: top;\n",
       "    }\n",
       "\n",
       "    .dataframe thead th {\n",
       "        text-align: right;\n",
       "    }\n",
       "</style>\n",
       "<table border=\"1\" class=\"dataframe\">\n",
       "  <thead>\n",
       "    <tr style=\"text-align: right;\">\n",
       "      <th></th>\n",
       "      <th>Make</th>\n",
       "      <th>Model</th>\n",
       "      <th>Variant</th>\n",
       "      <th>Ex-Showroom_Price</th>\n",
       "      <th>Cylinders</th>\n",
       "      <th>Fuel_Type</th>\n",
       "      <th>Fuel_Tank_Capacity</th>\n",
       "      <th>Height</th>\n",
       "      <th>Length</th>\n",
       "      <th>Width</th>\n",
       "      <th>ARAI_Certified_Mileage</th>\n",
       "      <th>ARAI_Certified_Mileage_for_CNG</th>\n",
       "      <th>Power</th>\n",
       "      <th>Basic_Warranty</th>\n",
       "      <th>Gear_Indicator</th>\n",
       "    </tr>\n",
       "  </thead>\n",
       "  <tbody>\n",
       "    <tr>\n",
       "      <th>0</th>\n",
       "      <td>Tata</td>\n",
       "      <td>Nano Genx</td>\n",
       "      <td>Xt</td>\n",
       "      <td>292667</td>\n",
       "      <td>2.0</td>\n",
       "      <td>Petrol</td>\n",
       "      <td>24.0</td>\n",
       "      <td>1652.0</td>\n",
       "      <td>3164.0</td>\n",
       "      <td>1750.0</td>\n",
       "      <td>23.6 km/litre</td>\n",
       "      <td>NaN</td>\n",
       "      <td>38PS@5500rpm</td>\n",
       "      <td>2 years /75000 Kms (years/distance whichever c...</td>\n",
       "      <td>NaN</td>\n",
       "    </tr>\n",
       "    <tr>\n",
       "      <th>1</th>\n",
       "      <td>Tata</td>\n",
       "      <td>Nano Genx</td>\n",
       "      <td>Xe</td>\n",
       "      <td>236447</td>\n",
       "      <td>2.0</td>\n",
       "      <td>Petrol</td>\n",
       "      <td>24.0</td>\n",
       "      <td>1652.0</td>\n",
       "      <td>3164.0</td>\n",
       "      <td>1750.0</td>\n",
       "      <td>23.6 km/litre</td>\n",
       "      <td>NaN</td>\n",
       "      <td>38PS@5500rpm</td>\n",
       "      <td>2 years /75000 Kms (years/distance whichever c...</td>\n",
       "      <td>NaN</td>\n",
       "    </tr>\n",
       "    <tr>\n",
       "      <th>2</th>\n",
       "      <td>Tata</td>\n",
       "      <td>Nano Genx</td>\n",
       "      <td>Emax Xm</td>\n",
       "      <td>296661</td>\n",
       "      <td>2.0</td>\n",
       "      <td>CNG</td>\n",
       "      <td>15.0</td>\n",
       "      <td>1652.0</td>\n",
       "      <td>3164.0</td>\n",
       "      <td>1750.0</td>\n",
       "      <td>NaN</td>\n",
       "      <td>36 km/kg</td>\n",
       "      <td>38PS@5500rpm</td>\n",
       "      <td>2 years /75000 Kms (years/distance whichever c...</td>\n",
       "      <td>NaN</td>\n",
       "    </tr>\n",
       "    <tr>\n",
       "      <th>3</th>\n",
       "      <td>Tata</td>\n",
       "      <td>Nano Genx</td>\n",
       "      <td>Xta</td>\n",
       "      <td>334768</td>\n",
       "      <td>2.0</td>\n",
       "      <td>Petrol</td>\n",
       "      <td>24.0</td>\n",
       "      <td>1652.0</td>\n",
       "      <td>3164.0</td>\n",
       "      <td>1750.0</td>\n",
       "      <td>21.9 km/litre</td>\n",
       "      <td>NaN</td>\n",
       "      <td>38PS@5500rpm</td>\n",
       "      <td>2 years /75000 Kms (years/distance whichever c...</td>\n",
       "      <td>Yes</td>\n",
       "    </tr>\n",
       "    <tr>\n",
       "      <th>4</th>\n",
       "      <td>Tata</td>\n",
       "      <td>Nano Genx</td>\n",
       "      <td>Xm</td>\n",
       "      <td>272223</td>\n",
       "      <td>2.0</td>\n",
       "      <td>Petrol</td>\n",
       "      <td>24.0</td>\n",
       "      <td>1652.0</td>\n",
       "      <td>3164.0</td>\n",
       "      <td>1750.0</td>\n",
       "      <td>23.6 km/litre</td>\n",
       "      <td>NaN</td>\n",
       "      <td>38PS@5500rpm</td>\n",
       "      <td>2 years /75000 Kms (years/distance whichever c...</td>\n",
       "      <td>NaN</td>\n",
       "    </tr>\n",
       "    <tr>\n",
       "      <th>...</th>\n",
       "      <td>...</td>\n",
       "      <td>...</td>\n",
       "      <td>...</td>\n",
       "      <td>...</td>\n",
       "      <td>...</td>\n",
       "      <td>...</td>\n",
       "      <td>...</td>\n",
       "      <td>...</td>\n",
       "      <td>...</td>\n",
       "      <td>...</td>\n",
       "      <td>...</td>\n",
       "      <td>...</td>\n",
       "      <td>...</td>\n",
       "      <td>...</td>\n",
       "      <td>...</td>\n",
       "    </tr>\n",
       "    <tr>\n",
       "      <th>1271</th>\n",
       "      <td>Honda</td>\n",
       "      <td>City</td>\n",
       "      <td>Vx Mt Diesel</td>\n",
       "      <td>1302000</td>\n",
       "      <td>4.0</td>\n",
       "      <td>Diesel</td>\n",
       "      <td>40.0</td>\n",
       "      <td>1495.0</td>\n",
       "      <td>4440.0</td>\n",
       "      <td>1695.0</td>\n",
       "      <td>25.1 km/litre</td>\n",
       "      <td>NaN</td>\n",
       "      <td>100PS@3600rpm</td>\n",
       "      <td>2 Years / 40,000 Kms (Whichever comes earlier)</td>\n",
       "      <td>NaN</td>\n",
       "    </tr>\n",
       "    <tr>\n",
       "      <th>1272</th>\n",
       "      <td>Honda</td>\n",
       "      <td>City</td>\n",
       "      <td>Zx Mt Diesel</td>\n",
       "      <td>1421000</td>\n",
       "      <td>4.0</td>\n",
       "      <td>Diesel</td>\n",
       "      <td>40.0</td>\n",
       "      <td>1495.0</td>\n",
       "      <td>4440.0</td>\n",
       "      <td>1695.0</td>\n",
       "      <td>25.1 km/litre</td>\n",
       "      <td>NaN</td>\n",
       "      <td>100PS@3600rpm</td>\n",
       "      <td>2 Years / 40,000 Kms (Whichever comes earlier)</td>\n",
       "      <td>NaN</td>\n",
       "    </tr>\n",
       "    <tr>\n",
       "      <th>1273</th>\n",
       "      <td>Honda</td>\n",
       "      <td>City</td>\n",
       "      <td>Zx Cvt Petrol</td>\n",
       "      <td>1431000</td>\n",
       "      <td>4.0</td>\n",
       "      <td>Petrol</td>\n",
       "      <td>40.0</td>\n",
       "      <td>1495.0</td>\n",
       "      <td>4440.0</td>\n",
       "      <td>1695.0</td>\n",
       "      <td>22.6 km/litre</td>\n",
       "      <td>NaN</td>\n",
       "      <td>119PS@6600rpm</td>\n",
       "      <td>2 Years / 40,000 Kms (Whichever comes earlier)</td>\n",
       "      <td>NaN</td>\n",
       "    </tr>\n",
       "    <tr>\n",
       "      <th>1274</th>\n",
       "      <td>Honda</td>\n",
       "      <td>City</td>\n",
       "      <td>V Cvt Petrol</td>\n",
       "      <td>1201000</td>\n",
       "      <td>4.0</td>\n",
       "      <td>Petrol</td>\n",
       "      <td>40.0</td>\n",
       "      <td>1495.0</td>\n",
       "      <td>4440.0</td>\n",
       "      <td>1695.0</td>\n",
       "      <td>17.8 km/litre</td>\n",
       "      <td>NaN</td>\n",
       "      <td>119PS@6600rpm</td>\n",
       "      <td>2 Years / 40,000 Kms (Whichever comes earlier)</td>\n",
       "      <td>NaN</td>\n",
       "    </tr>\n",
       "    <tr>\n",
       "      <th>1275</th>\n",
       "      <td>Mitsubishi</td>\n",
       "      <td>Montero</td>\n",
       "      <td>3.2 At</td>\n",
       "      <td>6862560</td>\n",
       "      <td>4.0</td>\n",
       "      <td>Diesel</td>\n",
       "      <td>88.0</td>\n",
       "      <td>1900.0</td>\n",
       "      <td>4900.0</td>\n",
       "      <td>1875.0</td>\n",
       "      <td>11.56 km/litre</td>\n",
       "      <td>NaN</td>\n",
       "      <td>202ps@3800rpm</td>\n",
       "      <td>NaN</td>\n",
       "      <td>Yes</td>\n",
       "    </tr>\n",
       "  </tbody>\n",
       "</table>\n",
       "<p>1143 rows × 15 columns</p>\n",
       "</div>"
      ],
      "text/plain": [
       "            Make      Model        Variant  Ex-Showroom_Price  Cylinders  \\\n",
       "0           Tata  Nano Genx             Xt             292667        2.0   \n",
       "1           Tata  Nano Genx             Xe             236447        2.0   \n",
       "2           Tata  Nano Genx        Emax Xm             296661        2.0   \n",
       "3           Tata  Nano Genx            Xta             334768        2.0   \n",
       "4           Tata  Nano Genx             Xm             272223        2.0   \n",
       "...          ...        ...            ...                ...        ...   \n",
       "1271       Honda       City   Vx Mt Diesel            1302000        4.0   \n",
       "1272       Honda       City   Zx Mt Diesel            1421000        4.0   \n",
       "1273       Honda       City  Zx Cvt Petrol            1431000        4.0   \n",
       "1274       Honda       City   V Cvt Petrol            1201000        4.0   \n",
       "1275  Mitsubishi    Montero         3.2 At            6862560        4.0   \n",
       "\n",
       "     Fuel_Type  Fuel_Tank_Capacity  Height  Length   Width  \\\n",
       "0       Petrol                24.0  1652.0  3164.0  1750.0   \n",
       "1       Petrol                24.0  1652.0  3164.0  1750.0   \n",
       "2          CNG                15.0  1652.0  3164.0  1750.0   \n",
       "3       Petrol                24.0  1652.0  3164.0  1750.0   \n",
       "4       Petrol                24.0  1652.0  3164.0  1750.0   \n",
       "...        ...                 ...     ...     ...     ...   \n",
       "1271    Diesel                40.0  1495.0  4440.0  1695.0   \n",
       "1272    Diesel                40.0  1495.0  4440.0  1695.0   \n",
       "1273    Petrol                40.0  1495.0  4440.0  1695.0   \n",
       "1274    Petrol                40.0  1495.0  4440.0  1695.0   \n",
       "1275    Diesel                88.0  1900.0  4900.0  1875.0   \n",
       "\n",
       "     ARAI_Certified_Mileage ARAI_Certified_Mileage_for_CNG          Power  \\\n",
       "0             23.6 km/litre                            NaN   38PS@5500rpm   \n",
       "1             23.6 km/litre                            NaN   38PS@5500rpm   \n",
       "2                       NaN                       36 km/kg   38PS@5500rpm   \n",
       "3             21.9 km/litre                            NaN   38PS@5500rpm   \n",
       "4             23.6 km/litre                            NaN   38PS@5500rpm   \n",
       "...                     ...                            ...            ...   \n",
       "1271          25.1 km/litre                            NaN  100PS@3600rpm   \n",
       "1272          25.1 km/litre                            NaN  100PS@3600rpm   \n",
       "1273          22.6 km/litre                            NaN  119PS@6600rpm   \n",
       "1274          17.8 km/litre                            NaN  119PS@6600rpm   \n",
       "1275         11.56 km/litre                            NaN  202ps@3800rpm   \n",
       "\n",
       "                                         Basic_Warranty Gear_Indicator  \n",
       "0     2 years /75000 Kms (years/distance whichever c...            NaN  \n",
       "1     2 years /75000 Kms (years/distance whichever c...            NaN  \n",
       "2     2 years /75000 Kms (years/distance whichever c...            NaN  \n",
       "3     2 years /75000 Kms (years/distance whichever c...            Yes  \n",
       "4     2 years /75000 Kms (years/distance whichever c...            NaN  \n",
       "...                                                 ...            ...  \n",
       "1271     2 Years / 40,000 Kms (Whichever comes earlier)            NaN  \n",
       "1272     2 Years / 40,000 Kms (Whichever comes earlier)            NaN  \n",
       "1273     2 Years / 40,000 Kms (Whichever comes earlier)            NaN  \n",
       "1274     2 Years / 40,000 Kms (Whichever comes earlier)            NaN  \n",
       "1275                                                NaN            Yes  \n",
       "\n",
       "[1143 rows x 15 columns]"
      ]
     },
     "execution_count": 3463,
     "metadata": {},
     "output_type": "execute_result"
    }
   ],
   "source": [
    "data.dropna(subset=['Cylinders'],inplace=True)\n",
    "data.dropna(subset=['Ex-Showroom_Price'],inplace=True)\n",
    "data.dropna(subset=['Fuel_Tank_Capacity'],inplace=True)\n",
    "data.dropna(subset=['Height'],inplace=True)\n",
    "data.dropna(subset=['Length'],inplace=True)\n",
    "data.dropna(subset=['Width'],inplace=True)\n",
    "data"
   ]
  },
  {
   "cell_type": "code",
   "execution_count": 3464,
   "id": "2a022179",
   "metadata": {},
   "outputs": [],
   "source": [
    "data2 = data.copy()"
   ]
  },
  {
   "cell_type": "code",
   "execution_count": 3465,
   "id": "07eaece4",
   "metadata": {},
   "outputs": [],
   "source": [
    "data3 = data.copy()"
   ]
  },
  {
   "cell_type": "markdown",
   "id": "c63cce69",
   "metadata": {},
   "source": [
    "<h2>Selecting cars on the basis of priority of multiple features</h2>\n",
    "\n"
   ]
  },
  {
   "cell_type": "code",
   "execution_count": 3466,
   "id": "88ad84c1",
   "metadata": {},
   "outputs": [],
   "source": [
    "sum1=0\n",
    "sum2=0\n",
    "sum3=0\n",
    "sum4=0\n",
    "sum5=0\n",
    "sum6=0\n",
    "for ind in data.index:\n",
    "    sum1=sum1+((data['Cylinders'][ind])*(data['Cylinders'][ind]))\n",
    "    sum2=sum2+((data['Ex-Showroom_Price'][ind])*(data['Ex-Showroom_Price'][ind]))\n",
    "    sum3=sum3+((data['Fuel_Tank_Capacity'][ind])*(data['Fuel_Tank_Capacity'][ind]))\n",
    "    sum4=sum4+((data['Height'][ind])*(data['Height'][ind]))\n",
    "    sum5=sum5+((data['Length'][ind])*(data['Length'][ind]))\n",
    "    sum6=sum6+((data['Width'][ind])*(data['Width'][ind]))"
   ]
  },
  {
   "cell_type": "code",
   "execution_count": 3467,
   "id": "cd12f965",
   "metadata": {},
   "outputs": [],
   "source": [
    "def min_max(*arguments):\n",
    "    \n",
    "    data['Cylinders_normalized']=pd.Series() \n",
    "    data['Ex-Showroom_Price_normalized']=pd.Series() \n",
    "    data['Fuel_Tank_Capacity_normalized']=pd.Series() \n",
    "    data['Height_normalized']=pd.Series() \n",
    "    data['Width_normalized']=pd.Series() \n",
    "    data['Length_normalized']=pd.Series() \n",
    "    if cyl==\"minimum\":\n",
    "        print(\"yes\")\n",
    "    for ind in data.index:\n",
    "        if cyl==\"maximum\":\n",
    "            data['Cylinders_normalized'][ind]=data['Cylinders'][ind]/sum1\n",
    "        else:\n",
    "            data['Cylinders_normalized'][ind]=1-data['Cylinders'][ind]/sum1\n",
    "            \n",
    "        if price==\"maximum\":\n",
    "            data['Ex-Showroom_Price_normalized'][ind]=data['Ex-Showroom_Price'][ind]/sum2\n",
    "        else:\n",
    "            data['Ex-Showroom_Price_normalized'][ind]=1-data['Ex-Showroom_Price'][ind]/sum2\n",
    "            \n",
    "        if fuel==\"maximum\":\n",
    "            data['Fuel_Tank_Capacity_normalized'][ind]=data['Fuel_Tank_Capacity'][ind]/sum3\n",
    "        else:\n",
    "            data['Fuel_Tank_Capacity_normalized'][ind]=1-data['Fuel_Tank_Capacity'][ind]/sum3\n",
    "       \n",
    "        if height==\"maximum\":\n",
    "            data['Height_normalized'][ind]=data['Height'][ind]/sum4\n",
    "        else:\n",
    "            data['Height_normalized'][ind]=1-data['Height'][ind]/sum4\n",
    "        \n",
    "        if width==\"maximum\":\n",
    "            data['Width_normalized'][ind]=data['Width'][ind]/sum5\n",
    "        else:\n",
    "            data['Width_normalized'][ind]=1-data['Width'][ind]/sum5\n",
    "        \n",
    "        if length==\"maximum\":\n",
    "            data['Length_normalized'][ind]=data['Length'][ind]/sum6\n",
    "        else:\n",
    "            data['Length_normalized'][ind]=1-data['Length'][ind]/sum6\n",
    "\n",
    "            \n",
    "        data['sum']=0.2*data['Cylinders_normalized']+0.3*data['Ex-Showroom_Price_normalized']+0.2*data['Fuel_Tank_Capacity_normalized']+0.1*data['Height_normalized']+0.1*data['Length_normalized']+0.1*data['Width_normalized']\n",
    "        \n",
    "        data.sort_values(by=\"sum\",ascending=False)"
   ]
  },
  {
   "cell_type": "markdown",
   "id": "a1dafd68",
   "metadata": {},
   "source": [
    "<h2> Predict the price of car with all desired features </h2>"
   ]
  },
  {
   "cell_type": "code",
   "execution_count": 3468,
   "id": "ae24dbfe",
   "metadata": {},
   "outputs": [],
   "source": [
    "le=preprocessing.LabelEncoder()\n",
    "data2['Make']=le.fit_transform(data2['Make']).astype(int)\n",
    "data2['Model']=le.fit_transform(data2['Model']).astype(int)\n",
    "data2['Variant']=le.fit_transform(data2['Variant']).astype(int)\n",
    "data2['Fuel_Type']=le.fit_transform(data2['Fuel_Type']).astype(int)\n",
    "data2['ARAI_Certified_Mileage']=le.fit_transform(data2['ARAI_Certified_Mileage']).astype(int)\n",
    "data2['ARAI_Certified_Mileage_for_CNG']=le.fit_transform(data2['ARAI_Certified_Mileage_for_CNG']).astype(int)\n",
    "data2['Power']=le.fit_transform(data2['Power']).astype(int)\n",
    "data2['Basic_Warranty']=le.fit_transform(data2['Basic_Warranty']).astype(int)\n",
    "data2['Gear_Indicator']=le.fit_transform(data2['Gear_Indicator']).astype(int)\n"
   ]
  },
  {
   "cell_type": "code",
   "execution_count": 3469,
   "id": "5f03265d",
   "metadata": {},
   "outputs": [],
   "source": [
    "y = data2['Ex-Showroom_Price']\n",
    "data2.drop(['Ex-Showroom_Price'],axis=1,inplace=True)\n",
    "X = pd.DataFrame(data2, columns=data2.columns)\n",
    "\n",
    "X_train, X_test, y_train, y_test = train_test_split(X, y, test_size=0.25, random_state=12)"
   ]
  },
  {
   "cell_type": "code",
   "execution_count": 3470,
   "id": "e5fd8b3e",
   "metadata": {},
   "outputs": [],
   "source": [
    "# X_train // ouput the dataset"
   ]
  },
  {
   "cell_type": "code",
   "execution_count": 3471,
   "id": "1574f6bd",
   "metadata": {},
   "outputs": [
    {
     "data": {
      "text/html": [
       "<style>#sk-container-id-90 {color: black;background-color: white;}#sk-container-id-90 pre{padding: 0;}#sk-container-id-90 div.sk-toggleable {background-color: white;}#sk-container-id-90 label.sk-toggleable__label {cursor: pointer;display: block;width: 100%;margin-bottom: 0;padding: 0.3em;box-sizing: border-box;text-align: center;}#sk-container-id-90 label.sk-toggleable__label-arrow:before {content: \"▸\";float: left;margin-right: 0.25em;color: #696969;}#sk-container-id-90 label.sk-toggleable__label-arrow:hover:before {color: black;}#sk-container-id-90 div.sk-estimator:hover label.sk-toggleable__label-arrow:before {color: black;}#sk-container-id-90 div.sk-toggleable__content {max-height: 0;max-width: 0;overflow: hidden;text-align: left;background-color: #f0f8ff;}#sk-container-id-90 div.sk-toggleable__content pre {margin: 0.2em;color: black;border-radius: 0.25em;background-color: #f0f8ff;}#sk-container-id-90 input.sk-toggleable__control:checked~div.sk-toggleable__content {max-height: 200px;max-width: 100%;overflow: auto;}#sk-container-id-90 input.sk-toggleable__control:checked~label.sk-toggleable__label-arrow:before {content: \"▾\";}#sk-container-id-90 div.sk-estimator input.sk-toggleable__control:checked~label.sk-toggleable__label {background-color: #d4ebff;}#sk-container-id-90 div.sk-label input.sk-toggleable__control:checked~label.sk-toggleable__label {background-color: #d4ebff;}#sk-container-id-90 input.sk-hidden--visually {border: 0;clip: rect(1px 1px 1px 1px);clip: rect(1px, 1px, 1px, 1px);height: 1px;margin: -1px;overflow: hidden;padding: 0;position: absolute;width: 1px;}#sk-container-id-90 div.sk-estimator {font-family: monospace;background-color: #f0f8ff;border: 1px dotted black;border-radius: 0.25em;box-sizing: border-box;margin-bottom: 0.5em;}#sk-container-id-90 div.sk-estimator:hover {background-color: #d4ebff;}#sk-container-id-90 div.sk-parallel-item::after {content: \"\";width: 100%;border-bottom: 1px solid gray;flex-grow: 1;}#sk-container-id-90 div.sk-label:hover label.sk-toggleable__label {background-color: #d4ebff;}#sk-container-id-90 div.sk-serial::before {content: \"\";position: absolute;border-left: 1px solid gray;box-sizing: border-box;top: 0;bottom: 0;left: 50%;z-index: 0;}#sk-container-id-90 div.sk-serial {display: flex;flex-direction: column;align-items: center;background-color: white;padding-right: 0.2em;padding-left: 0.2em;position: relative;}#sk-container-id-90 div.sk-item {position: relative;z-index: 1;}#sk-container-id-90 div.sk-parallel {display: flex;align-items: stretch;justify-content: center;background-color: white;position: relative;}#sk-container-id-90 div.sk-item::before, #sk-container-id-90 div.sk-parallel-item::before {content: \"\";position: absolute;border-left: 1px solid gray;box-sizing: border-box;top: 0;bottom: 0;left: 50%;z-index: -1;}#sk-container-id-90 div.sk-parallel-item {display: flex;flex-direction: column;z-index: 1;position: relative;background-color: white;}#sk-container-id-90 div.sk-parallel-item:first-child::after {align-self: flex-end;width: 50%;}#sk-container-id-90 div.sk-parallel-item:last-child::after {align-self: flex-start;width: 50%;}#sk-container-id-90 div.sk-parallel-item:only-child::after {width: 0;}#sk-container-id-90 div.sk-dashed-wrapped {border: 1px dashed gray;margin: 0 0.4em 0.5em 0.4em;box-sizing: border-box;padding-bottom: 0.4em;background-color: white;}#sk-container-id-90 div.sk-label label {font-family: monospace;font-weight: bold;display: inline-block;line-height: 1.2em;}#sk-container-id-90 div.sk-label-container {text-align: center;}#sk-container-id-90 div.sk-container {/* jupyter's `normalize.less` sets `[hidden] { display: none; }` but bootstrap.min.css set `[hidden] { display: none !important; }` so we also need the `!important` here to be able to override the default hidden behavior on the sphinx rendered scikit-learn.org. See: https://github.com/scikit-learn/scikit-learn/issues/21755 */display: inline-block !important;position: relative;}#sk-container-id-90 div.sk-text-repr-fallback {display: none;}</style><div id=\"sk-container-id-90\" class=\"sk-top-container\"><div class=\"sk-text-repr-fallback\"><pre>RandomForestRegressor()</pre><b>In a Jupyter environment, please rerun this cell to show the HTML representation or trust the notebook. <br />On GitHub, the HTML representation is unable to render, please try loading this page with nbviewer.org.</b></div><div class=\"sk-container\" hidden><div class=\"sk-item\"><div class=\"sk-estimator sk-toggleable\"><input class=\"sk-toggleable__control sk-hidden--visually\" id=\"sk-estimator-id-90\" type=\"checkbox\" checked><label for=\"sk-estimator-id-90\" class=\"sk-toggleable__label sk-toggleable__label-arrow\">RandomForestRegressor</label><div class=\"sk-toggleable__content\"><pre>RandomForestRegressor()</pre></div></div></div></div></div>"
      ],
      "text/plain": [
       "RandomForestRegressor()"
      ]
     },
     "execution_count": 3471,
     "metadata": {},
     "output_type": "execute_result"
    }
   ],
   "source": [
    "rf = RandomForestRegressor(n_estimators=100)\n",
    "rf.fit(X_train, y_train)"
   ]
  },
  {
   "cell_type": "code",
   "execution_count": 3472,
   "id": "d249d82d",
   "metadata": {},
   "outputs": [],
   "source": [
    "# rf.feature_importances_ //values obtained by random forest"
   ]
  },
  {
   "cell_type": "code",
   "execution_count": 3473,
   "id": "8701f15b",
   "metadata": {},
   "outputs": [],
   "source": [
    "# plt.barh(data2.columns, rf.feature_importances_) //BarContainer object of 14 artists"
   ]
  },
  {
   "cell_type": "code",
   "execution_count": 3474,
   "id": "5933d623",
   "metadata": {
    "scrolled": false
   },
   "outputs": [],
   "source": [
    "sorted_idx = rf.feature_importances_.argsort()\n",
    "# plt.barh(data2.columns[sorted_idx], rf.feature_importances_[sorted_idx])\n",
    "# plt.xlabel(\"Random Forest Feature Importance\") // Bar Graph of Random Forest Feature Importance"
   ]
  },
  {
   "cell_type": "code",
   "execution_count": 3475,
   "id": "10f2b4cd",
   "metadata": {},
   "outputs": [],
   "source": [
    "perm_importance = permutation_importance(rf, X_test, y_test)"
   ]
  },
  {
   "cell_type": "code",
   "execution_count": 3476,
   "id": "d9c26b01",
   "metadata": {},
   "outputs": [],
   "source": [
    "sorted_idx = perm_importance.importances_mean.argsort()\n",
    "# plt.barh(data2.columns[sorted_idx], perm_importance.importances_mean[sorted_idx])\n",
    "# plt.xlabel(\"Permutation Importance\") //Bar Graph of Permutation Importance"
   ]
  },
  {
   "cell_type": "code",
   "execution_count": 3477,
   "id": "047935ad",
   "metadata": {
    "scrolled": false
   },
   "outputs": [],
   "source": [
    "y_pred_test = rf.predict(X_test)"
   ]
  },
  {
   "cell_type": "code",
   "execution_count": 3506,
   "id": "bdb7b462",
   "metadata": {},
   "outputs": [
    {
     "data": {
      "text/plain": [
       "{'knn__leaf_size': 15, 'knn__n_neighbors': 3, 'knn__weights': 'distance'}"
      ]
     },
     "execution_count": 3506,
     "metadata": {},
     "output_type": "execute_result"
    }
   ],
   "source": [
    "knn_pipe = Pipeline([('mms', MinMaxScaler()),\n",
    "                     ('knn', KNeighborsClassifier())])\n",
    "params = [{'knn__n_neighbors': [3, 5, 7, 9],\n",
    "         'knn__weights': ['uniform', 'distance'],\n",
    "         'knn__leaf_size': [15, 20]}]\n",
    "gs_knn = GridSearchCV(knn_pipe,\n",
    "                      param_grid=params,\n",
    "                      scoring='accuracy',\n",
    "                      cv=5)\n",
    "gs_knn.fit(X_train, y_train)\n",
    "gs_knn.best_params_\n",
    "\n",
    "# {'knn__leaf_size': 15, 'knn__n_neighbors': 5, 'knn__weights': 'distance'}\n",
    "\n",
    "# find best model score\n",
    "# gs_knn.score(X_train, y_train) \n"
   ]
  },
  {
   "cell_type": "markdown",
   "id": "b8084194",
   "metadata": {},
   "source": [
    "<h2> Web Application </h2>"
   ]
  },
  {
   "cell_type": "code",
   "execution_count": 3479,
   "id": "86150c3b",
   "metadata": {},
   "outputs": [],
   "source": [
    "text_0 = widgets.HTML(value=\"<h1>CUSTOMER SECTION</h1>\")\n",
    "text_1 = widgets.HTML(value=\"<h3>Cars Preferred by a Customer:</h3>\")"
   ]
  },
  {
   "cell_type": "code",
   "execution_count": 3480,
   "id": "cd2af8f7",
   "metadata": {},
   "outputs": [],
   "source": [
    "text_2=widgets.HTML(value=\"<h4>Ex-Showroom Price</h4>\")\n",
    "price = widgets.ToggleButtons(\n",
    "            options=['minimum', 'maximum']\n",
    "        )\n",
    "text_3=widgets.HTML(value=\"<h4>Cylinders</h4>\")\n",
    "cyl = widgets.ToggleButtons(\n",
    "            options=['minimum', 'maximum']\n",
    "        )\n",
    "text_4=widgets.HTML(value=\"<h4>Fuel Tank Capacity</h4>\")\n",
    "fuel = widgets.ToggleButtons(\n",
    "            options=['minimum', 'maximum']\n",
    "        )\n",
    "text_5=widgets.HTML(value=\"<h4>Height</h4>\")\n",
    "height = widgets.ToggleButtons(\n",
    "            options=['minimum', 'maximum']\n",
    "        )\n",
    "text_6=widgets.HTML(value=\"<h4>Width</h4>\")\n",
    "width = widgets.ToggleButtons(\n",
    "            options=['minimum', 'maximum']\n",
    "        )\n",
    "text_7=widgets.HTML(value=\"<h4>Length</h4>\")\n",
    "length = widgets.ToggleButtons(\n",
    "            options=['minimum', 'maximum']\n",
    "        )\n",
    "\n",
    "min_max(price.value,cyl.value,fuel.value,height.value,width.value,length.value)\n"
   ]
  },
  {
   "cell_type": "code",
   "execution_count": 3481,
   "id": "1b60a78a",
   "metadata": {},
   "outputs": [],
   "source": [
    "button_send = widgets.Button(\n",
    "                description='Generate Cars Dataset',\n",
    "                tooltip='Send',\n",
    "                style={'description_width': 'initial'}\n",
    "            )\n",
    "\n",
    "output = widgets.Output()\n",
    "from pivottablejs import pivot_ui\n",
    "\n",
    "def print_full(x):\n",
    "    pd.set_option('display.max_rows', len(x))\n",
    "    print(x)\n",
    "    pd.reset_option('display.max_rows')\n",
    "    \n",
    "from IPython.core.display import HTML\n",
    "\n",
    "\n",
    "def on_button_clicked(event):\n",
    "    \n",
    "            df = pd.DataFrame(data.sort_values(by=\"sum\",ascending=False))\n",
    "            df_temp=df.iloc[:5]\n",
    "            display(HTML(df_temp.to_html()))\n",
    "    \n",
    "button_send.on_click(on_button_clicked)\n",
    "\n",
    "vbox_result = widgets.VBox([button_send])"
   ]
  },
  {
   "cell_type": "code",
   "execution_count": 3482,
   "id": "7e84920c",
   "metadata": {},
   "outputs": [],
   "source": [
    "text_9 = widgets.HTML(value=\"<h4>Enter the model of the car:</h4>\")\n",
    "\n",
    "model = widgets.Text(placeholder='model')\n",
    "\n",
    "input_widget0 = widgets.HBox([model])"
   ]
  },
  {
   "cell_type": "code",
   "execution_count": 3483,
   "id": "f43b2eb1",
   "metadata": {},
   "outputs": [],
   "source": [
    "text_10 = widgets.HTML(value=\"<h4>Enter the variant:</h4>\")\n",
    "\n",
    "variantt = widgets.Text(placeholder='variant')\n",
    "\n",
    "input_widget1 = widgets.HBox([variantt])"
   ]
  },
  {
   "cell_type": "code",
   "execution_count": 3484,
   "id": "8c12ade7",
   "metadata": {},
   "outputs": [],
   "source": [
    "text_11 = widgets.HTML(value=\"<h4>Choose the number of cylinders:</h4>\")\n",
    "\n",
    "cylinders = widgets.IntSlider(\n",
    "            value=3,\n",
    "            min=2, \n",
    "            max=16,\n",
    "            step=1,\n",
    "            style={'description_width': 'initial', 'handle_color': '#a01659'} \n",
    "        )\n",
    "\n",
    "input_widget2 = widgets.HBox([cylinders])"
   ]
  },
  {
   "cell_type": "code",
   "execution_count": 3485,
   "id": "8756f61f",
   "metadata": {},
   "outputs": [],
   "source": [
    "text_12 = widgets.HTML(value=\"<h4>Choose the Fuel type:</h4>\")\n",
    "\n",
    "fueltype= widgets.Dropdown(\n",
    "          options=['CNG', 'CNG+Petrol', 'Diesel','Electric','Hybrid','Petrol']\n",
    "           )\n",
    "\n",
    "input_widgets1 = widgets.HBox([fueltype])"
   ]
  },
  {
   "cell_type": "code",
   "execution_count": 3486,
   "id": "1c2839bc",
   "metadata": {},
   "outputs": [],
   "source": [
    "text_13 = widgets.HTML(value=\"<h4>Enter the capacity of the fuel tank(litres):</h4>\")\n",
    "\n",
    "fuelcapacity = widgets.Text(placeholder='capacity')\n",
    "\n",
    "input_widget4 = widgets.HBox([fuelcapacity])"
   ]
  },
  {
   "cell_type": "code",
   "execution_count": 3487,
   "id": "1ce2f007",
   "metadata": {},
   "outputs": [],
   "source": [
    "text_14 = widgets.HTML(value=\"<h4>Enter the height of the vehicle(mm):</h4>\")\n",
    "\n",
    "cheight = widgets.Text(placeholder='height')\n",
    "\n",
    "input_widget5 = widgets.HBox([cheight])"
   ]
  },
  {
   "cell_type": "code",
   "execution_count": 3488,
   "id": "4009a89e",
   "metadata": {},
   "outputs": [],
   "source": [
    "text_15 = widgets.HTML(value=\"<h4>Enter the length of the vehicle(mm):</h4>\")\n",
    "\n",
    "clength = widgets.Text(placeholder='length')\n",
    "\n",
    "input_widget6 = widgets.HBox([clength])"
   ]
  },
  {
   "cell_type": "code",
   "execution_count": 3489,
   "id": "b6fd3ee7",
   "metadata": {},
   "outputs": [],
   "source": [
    "text_16 = widgets.HTML(value=\"<h4>Enter the width of the vehicle(mm):</h4>\")\n",
    "\n",
    "cwidth = widgets.Text(placeholder='width')\n",
    "\n",
    "input_widget7 = widgets.HBox([cwidth])"
   ]
  },
  {
   "cell_type": "code",
   "execution_count": 3490,
   "id": "e839514d",
   "metadata": {},
   "outputs": [],
   "source": [
    "text_17 = widgets.HTML(value=\"<h4>Enter the ARAI Certified Mileage(km/litre):</h4>\")\n",
    "\n",
    "mileage = widgets.Text(placeholder='mileage')\n",
    "\n",
    "input_widget8 = widgets.HBox([mileage])"
   ]
  },
  {
   "cell_type": "code",
   "execution_count": 3491,
   "id": "aa6048a4",
   "metadata": {},
   "outputs": [],
   "source": [
    "text_18 = widgets.HTML(value=\"<h4>Enter the ARAI Certified Mileage for CNG(km/kg):</h4>\")\n",
    "\n",
    "mileagecng = widgets.Text(placeholder='mileage')\n",
    "\n",
    "input_widget9 = widgets.HBox([mileagecng])"
   ]
  },
  {
   "cell_type": "code",
   "execution_count": 3492,
   "id": "8f86da3b",
   "metadata": {},
   "outputs": [],
   "source": [
    "text_19 = widgets.HTML(value=\"<h4>Enter the Power of the vehicle required(rpm):</h4>\")\n",
    "\n",
    "power = widgets.Text(placeholder='power')\n",
    "\n",
    "input_widget10 = widgets.HBox([power])"
   ]
  },
  {
   "cell_type": "code",
   "execution_count": 3493,
   "id": "682c235b",
   "metadata": {},
   "outputs": [],
   "source": [
    "text_20 = widgets.HTML(value=\"<h4>Enter the Basic Warranty required for vehicle:</h4>\")\n",
    "\n",
    "basicwarranty = widgets.Text(placeholder='warranty')\n",
    "\n",
    "input_widget11 = widgets.HBox([basicwarranty])"
   ]
  },
  {
   "cell_type": "code",
   "execution_count": 3494,
   "id": "3cb80500",
   "metadata": {},
   "outputs": [],
   "source": [
    "text_21 = widgets.HTML(value=\"<h4>Is Gear Indicator present:</h4>\")\n",
    "\n",
    "gearindicator = widgets.RadioButtons(\n",
    "                options=['Yes', 'No'],\n",
    "                    disabled=False\n",
    "                )\n",
    "\n",
    "input_widget12 = widgets.HBox([gearindicator])"
   ]
  },
  {
   "cell_type": "code",
   "execution_count": 3495,
   "id": "62bd9ae4",
   "metadata": {},
   "outputs": [],
   "source": [
    "button_send2 = widgets.Button(\n",
    "                description='Predicted Price(Rs)',\n",
    "                tooltip='Send',\n",
    "                style={'description_width': 'initial'}\n",
    "            )\n",
    "\n",
    "out = widgets.Output()\n",
    "\n",
    "def on_button_clicked2(button_send2):\n",
    "   \n",
    "            if (company.value==\"Tata\"):\n",
    "                companyy=1\n",
    "            else:\n",
    "                companyy=0\n",
    "            \n",
    "            if (model.value==\"Nano Genx\"):\n",
    "                modell=1\n",
    "            else:\n",
    "                modell=0\n",
    "                \n",
    "            if (variantt.value==\"Xt\"):\n",
    "                varianttt=1\n",
    "            else:\n",
    "                varianttt=0\n",
    "                \n",
    "            if (fueltype.value==\"Petrol\"):\n",
    "                fueltypee=1 \n",
    "            else: \n",
    "                fueltypee=0\n",
    "                \n",
    "            if (power.value==\"38PS@5500rpm\"):\n",
    "                powerr=1\n",
    "            else:\n",
    "                powerr=0\n",
    "                \n",
    "                \n",
    "            if (basicwarranty.value==\"1 year\"):\n",
    "                basicwarrantyy=1\n",
    "            else:\n",
    "                basicwarrantyy=0\n",
    "                \n",
    "                \n",
    "            if (gearindicator.value==\"yes\"):\n",
    "                gearindicatorr=1\n",
    "            else:\n",
    "                gearindicatorr=0\n",
    "                \n",
    "            l = [[companyy, modell, varianttt, cylinders.value, fueltypee, fuelcapacity.value, cheight.value, clength.value, cwidth.value, mileage.value, mileagecng.value, powerr, basicwarrantyy, gearindicatorr]]\n",
    "\n",
    "            ae= pd.DataFrame(l, columns=X_train.columns)\n",
    "\n",
    "            y_pred_test = rf.predict(ae)\n",
    "            print(\"The estimated price for desired car is:\")\n",
    "            print(\"Rs.\", y_pred_test)\n",
    "           \n",
    "    \n",
    "button_send2.on_click(on_button_clicked2)\n",
    "\n",
    "vbox_result2 = widgets.VBox([button_send2])"
   ]
  },
  {
   "cell_type": "code",
   "execution_count": 3496,
   "id": "e81c60df",
   "metadata": {},
   "outputs": [],
   "source": [
    "text_22 = widgets.HTML(value=\"<h1>MANAGEMENT SECTION</h1>\")\n",
    "text_23 = widgets.HTML(value=\"<h3>Compare Various Cars:</h3>\")"
   ]
  },
  {
   "cell_type": "code",
   "execution_count": 3497,
   "id": "1ef609d9",
   "metadata": {},
   "outputs": [],
   "source": [
    "text_24 = widgets.HTML(value=\"<h4>Enter the Models along with variant that you want to compare:</h4>\")\n",
    "\n",
    "mname1 = widgets.Text(placeholder='model name')\n",
    "vname1 = widgets.Text(placeholder='variant name')\n",
    "\n",
    "mname2 = widgets.Text(placeholder='model name')\n",
    "vname2 = widgets.Text(placeholder='variant name')\n",
    "\n",
    "input_widget13 = widgets.HBox([mname1])\n",
    "input_widget14 = widgets.HBox([mname2])\n",
    "\n",
    "input_widget15 = widgets.HBox([vname1])\n",
    "input_widget16 = widgets.HBox([vname2])\n"
   ]
  },
  {
   "cell_type": "markdown",
   "id": "0ce3d7da",
   "metadata": {},
   "source": [
    "<h2> Comparision of Cars </h2>"
   ]
  },
  {
   "cell_type": "code",
   "execution_count": 3498,
   "id": "ac57a587",
   "metadata": {},
   "outputs": [],
   "source": [
    "text_25 = widgets.HTML(value=\"<h4>Choose the basis for comparision:</h4>\")\n",
    "\n",
    "comparision= widgets.Dropdown(\n",
    "              options=['Ex-Showroom_Price','Cylinders','Fuel_Tank_Capacity','Height','Length','Width']\n",
    "               )\n",
    "\n",
    "input_widget17 = widgets.HBox([comparision])"
   ]
  },
  {
   "cell_type": "code",
   "execution_count": 3499,
   "id": "af3794d1",
   "metadata": {},
   "outputs": [],
   "source": [
    "import matplotlib.pyplot as plt\n",
    "button_send3 = widgets.Button(\n",
    "                description='Compare!',\n",
    "                tooltip='Send',\n",
    "                style={'description_width': 'initial'}\n",
    "            )\n",
    "\n",
    "output = widgets.Output()\n",
    "\n",
    "def on_button_clicked3(event):\n",
    "            \n",
    "            new=data3[data3['Model']==mname1.value]\n",
    "            new=new[new['Variant']==vname1.value]\n",
    "            \n",
    "            new2=data3[data3['Model']==mname2.value]\n",
    "            new2=new2[new2['Variant']==vname2.value]\n",
    "\n",
    "            plt.figure(figsize=(5,5))\n",
    "            temp_new = new.append(new2, ignore_index=True)\n",
    "            plt.bar(temp_new['Model'],temp_new[comparision.value],width = 0.3)\n",
    "            plt.figure(figsize=(1,1))\n",
    "\n",
    "    \n",
    "button_send3.on_click(on_button_clicked3)\n",
    "\n",
    "vbox_result3 = widgets.VBox([button_send3])\n"
   ]
  },
  {
   "cell_type": "code",
   "execution_count": 3500,
   "id": "160ed0d9",
   "metadata": {},
   "outputs": [],
   "source": [
    "image_headline = widgets.Image(\n",
    "                    value=image,\n",
    "                    format='jpg',\n",
    "                    width='600'\n",
    "                )\n",
    "vbox_image = widgets.VBox([image_headline])"
   ]
  },
  {
   "cell_type": "code",
   "execution_count": 3501,
   "id": "5a1d1e28",
   "metadata": {},
   "outputs": [],
   "source": [
    "text_26 = widgets.HTML(value=\"<h4>Enter the company of car</h4>\")\n",
    "\n",
    "company = widgets.Text(placeholder='company')\n",
    "\n",
    "input_widget18 = widgets.HBox([company])\n"
   ]
  },
  {
   "cell_type": "code",
   "execution_count": 3502,
   "id": "34d045e7",
   "metadata": {},
   "outputs": [],
   "source": [
    "vbox_text = widgets.VBox([vbox_image5, text_0, text_1,text_2, price, text_3, cyl, text_4, fuel, text_5, height, text_6, width, text_7, length, vbox_result])"
   ]
  },
  {
   "cell_type": "code",
   "execution_count": 3503,
   "id": "ac73343e",
   "metadata": {},
   "outputs": [],
   "source": [
    "vbox_text2 = widgets.VBox([text_8, text_26, input_widget18, text_9, input_widget0, text_10, input_widget1, text_11, input_widget2, text_12, input_widget3, text_13, input_widget4, text_14, input_widget5, text_15, input_widget6, text_16, input_widget7, text_17, input_widget8, text_18, input_widget9, text_19, input_widget10, text_20, input_widget11, text_21, input_widget12, vbox_result2])"
   ]
  },
  {
   "cell_type": "code",
   "execution_count": 3504,
   "id": "6a5ff683",
   "metadata": {},
   "outputs": [],
   "source": [
    "vbox_text3 = widgets.VBox([text_22, text_23,text_24,input_widget13, input_widget15, input_widget14, input_widget16, text_25, input_widget17, vbox_result3])"
   ]
  },
  {
   "cell_type": "code",
   "execution_count": 3505,
   "id": "f4ab4cc0",
   "metadata": {
    "scrolled": false
   },
   "outputs": [
    {
     "data": {
      "application/vnd.jupyter.widget-view+json": {
       "model_id": "e350e933d32d4da59b451cd7214ec4f4",
       "version_major": 2,
       "version_minor": 0
      },
      "text/plain": [
       "Accordion(children=(HBox(children=(VBox(children=(VBox(children=(Image(value=b'\\xff\\xd8\\xff\\xe0\\x00\\x10JFIF\\x0…"
      ]
     },
     "metadata": {},
     "output_type": "display_data"
    },
    {
     "data": {
      "text/html": [
       "<table border=\"1\" class=\"dataframe\">\n",
       "  <thead>\n",
       "    <tr style=\"text-align: right;\">\n",
       "      <th></th>\n",
       "      <th>Make</th>\n",
       "      <th>Model</th>\n",
       "      <th>Variant</th>\n",
       "      <th>Ex-Showroom_Price</th>\n",
       "      <th>Cylinders</th>\n",
       "      <th>Fuel_Type</th>\n",
       "      <th>Fuel_Tank_Capacity</th>\n",
       "      <th>Height</th>\n",
       "      <th>Length</th>\n",
       "      <th>Width</th>\n",
       "      <th>ARAI_Certified_Mileage</th>\n",
       "      <th>ARAI_Certified_Mileage_for_CNG</th>\n",
       "      <th>Power</th>\n",
       "      <th>Basic_Warranty</th>\n",
       "      <th>Gear_Indicator</th>\n",
       "      <th>Cylinders_normalized</th>\n",
       "      <th>Ex-Showroom_Price_normalized</th>\n",
       "      <th>Fuel_Tank_Capacity_normalized</th>\n",
       "      <th>Height_normalized</th>\n",
       "      <th>Width_normalized</th>\n",
       "      <th>Length_normalized</th>\n",
       "      <th>sum</th>\n",
       "    </tr>\n",
       "  </thead>\n",
       "  <tbody>\n",
       "    <tr>\n",
       "      <th>1</th>\n",
       "      <td>Tata</td>\n",
       "      <td>Nano Genx</td>\n",
       "      <td>Xe</td>\n",
       "      <td>236447</td>\n",
       "      <td>2.0</td>\n",
       "      <td>Petrol</td>\n",
       "      <td>24.0</td>\n",
       "      <td>1652.0</td>\n",
       "      <td>3164.0</td>\n",
       "      <td>1750.0</td>\n",
       "      <td>23.6 km/litre</td>\n",
       "      <td>NaN</td>\n",
       "      <td>38PS@5500rpm</td>\n",
       "      <td>2 years /75000 Kms (years/distance whichever comes first)</td>\n",
       "      <td>NaN</td>\n",
       "      <td>0.999918</td>\n",
       "      <td>0.999031</td>\n",
       "      <td>0.999993</td>\n",
       "      <td>0.999999</td>\n",
       "      <td>1.0</td>\n",
       "      <td>0.999999</td>\n",
       "      <td>0.999691</td>\n",
       "    </tr>\n",
       "    <tr>\n",
       "      <th>4</th>\n",
       "      <td>Tata</td>\n",
       "      <td>Nano Genx</td>\n",
       "      <td>Xm</td>\n",
       "      <td>272223</td>\n",
       "      <td>2.0</td>\n",
       "      <td>Petrol</td>\n",
       "      <td>24.0</td>\n",
       "      <td>1652.0</td>\n",
       "      <td>3164.0</td>\n",
       "      <td>1750.0</td>\n",
       "      <td>23.6 km/litre</td>\n",
       "      <td>NaN</td>\n",
       "      <td>38PS@5500rpm</td>\n",
       "      <td>2 years /75000 Kms (years/distance whichever comes first)</td>\n",
       "      <td>NaN</td>\n",
       "      <td>0.999918</td>\n",
       "      <td>0.998884</td>\n",
       "      <td>0.999993</td>\n",
       "      <td>0.999999</td>\n",
       "      <td>1.0</td>\n",
       "      <td>0.999999</td>\n",
       "      <td>0.999647</td>\n",
       "    </tr>\n",
       "    <tr>\n",
       "      <th>6</th>\n",
       "      <td>Datsun</td>\n",
       "      <td>Redi-Go</td>\n",
       "      <td>D</td>\n",
       "      <td>279650</td>\n",
       "      <td>3.0</td>\n",
       "      <td>Petrol</td>\n",
       "      <td>28.0</td>\n",
       "      <td>1541.0</td>\n",
       "      <td>3429.0</td>\n",
       "      <td>1560.0</td>\n",
       "      <td>25.17 km/litre</td>\n",
       "      <td>NaN</td>\n",
       "      <td>54PS@5678rpm</td>\n",
       "      <td>2 years / Unlimited Kms</td>\n",
       "      <td>NaN</td>\n",
       "      <td>0.999877</td>\n",
       "      <td>0.998854</td>\n",
       "      <td>0.999992</td>\n",
       "      <td>0.999999</td>\n",
       "      <td>1.0</td>\n",
       "      <td>0.999999</td>\n",
       "      <td>0.999630</td>\n",
       "    </tr>\n",
       "    <tr>\n",
       "      <th>881</th>\n",
       "      <td>Maruti Suzuki</td>\n",
       "      <td>Omni</td>\n",
       "      <td>5 Str Bs-Iv</td>\n",
       "      <td>282778</td>\n",
       "      <td>3.0</td>\n",
       "      <td>Petrol</td>\n",
       "      <td>35.0</td>\n",
       "      <td>1640.0</td>\n",
       "      <td>3370.0</td>\n",
       "      <td>1410.0</td>\n",
       "      <td>16.8 km/litre</td>\n",
       "      <td>NaN</td>\n",
       "      <td>34.7PS@5000rpm</td>\n",
       "      <td>2 years /40000 Kms (years/distance whichever comes first)</td>\n",
       "      <td>NaN</td>\n",
       "      <td>0.999877</td>\n",
       "      <td>0.998841</td>\n",
       "      <td>0.999990</td>\n",
       "      <td>0.999999</td>\n",
       "      <td>1.0</td>\n",
       "      <td>0.999999</td>\n",
       "      <td>0.999625</td>\n",
       "    </tr>\n",
       "    <tr>\n",
       "      <th>13</th>\n",
       "      <td>Renault</td>\n",
       "      <td>Kwid</td>\n",
       "      <td>Std 0.8</td>\n",
       "      <td>283290</td>\n",
       "      <td>3.0</td>\n",
       "      <td>Petrol</td>\n",
       "      <td>28.0</td>\n",
       "      <td>1490.0</td>\n",
       "      <td>3731.0</td>\n",
       "      <td>1579.0</td>\n",
       "      <td>25.17 km/litre</td>\n",
       "      <td>NaN</td>\n",
       "      <td>54PS@5678rpm</td>\n",
       "      <td>2 Years / 50,000 Kms (Whichever comes earlier)</td>\n",
       "      <td>Yes</td>\n",
       "      <td>0.999877</td>\n",
       "      <td>0.998839</td>\n",
       "      <td>0.999992</td>\n",
       "      <td>0.999999</td>\n",
       "      <td>1.0</td>\n",
       "      <td>0.999999</td>\n",
       "      <td>0.999625</td>\n",
       "    </tr>\n",
       "  </tbody>\n",
       "</table>"
      ],
      "text/plain": [
       "<IPython.core.display.HTML object>"
      ]
     },
     "metadata": {},
     "output_type": "display_data"
    },
    {
     "name": "stdout",
     "output_type": "stream",
     "text": [
      "The estimated price for desired car is:\n",
      "Rs. [8427149.1]\n"
     ]
    },
    {
     "data": {
      "image/png": "[encoded data removed]",
      "text/plain": [
       "<Figure size 360x360 with 1 Axes>"
      ]
     },
     "metadata": {
      "needs_background": "light"
     },
     "output_type": "display_data"
    },
    {
     "data": {
      "text/plain": [
       "<Figure size 72x72 with 0 Axes>"
      ]
     },
     "metadata": {},
     "output_type": "display_data"
    }
   ],
   "source": [
    "page= widgets.HBox([vbox_text])\n",
    "\n",
    "page2= widgets.HBox([vbox_text2])\n",
    "\n",
    "page1 = widgets.VBox([vbox_text3])\n",
    "\n",
    "accordion = widgets.Accordion(children=[page, page2, page1])\n",
    "accordion"
   ]
  },
  {
   "cell_type": "code",
   "execution_count": null,
   "id": "5b3197dc",
   "metadata": {},
   "outputs": [],
   "source": []
  }
 ],
 "metadata": {
  "kernelspec": {
   "display_name": "Python 3 (ipykernel)",
   "language": "python",
   "name": "python3"
  },
  "language_info": {
   "codemirror_mode": {
    "name": "ipython",
    "version": 3
   },
   "file_extension": ".py",
   "mimetype": "text/x-python",
   "name": "python",
   "nbconvert_exporter": "python",
   "pygments_lexer": "ipython3",
   "version": "3.10.4"
  }
 },
 "nbformat": 4,
 "nbformat_minor": 5
}
